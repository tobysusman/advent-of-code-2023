{
 "cells": [
  {
   "cell_type": "markdown",
   "metadata": {},
   "source": [
    "## Advent of Code Day 6"
   ]
  },
  {
   "cell_type": "code",
   "execution_count": 1,
   "metadata": {},
   "outputs": [],
   "source": [
    "import pandas as pd\n",
    "import re"
   ]
  },
  {
   "cell_type": "markdown",
   "metadata": {},
   "source": [
    "Import File"
   ]
  },
  {
   "cell_type": "code",
   "execution_count": 2,
   "metadata": {},
   "outputs": [
    {
     "data": {
      "text/plain": [
       "['Time:        59     68     82     74',\n",
       " 'Distance:   543   1020   1664   1022']"
      ]
     },
     "execution_count": 2,
     "metadata": {},
     "output_type": "execute_result"
    }
   ],
   "source": [
    "with open(\"D6 Input.txt\", \"r\") as file:\n",
    "    file_contents = file.read()\n",
    "# print(file_contents)\n",
    "ls = file_contents.split(\"\\n\")\n",
    "# ls[:5]\n",
    "ls"
   ]
  },
  {
   "cell_type": "markdown",
   "metadata": {},
   "source": [
    "Parse everything"
   ]
  },
  {
   "cell_type": "code",
   "execution_count": 15,
   "metadata": {},
   "outputs": [
    {
     "name": "stdout",
     "output_type": "stream",
     "text": [
      "['59', '68', '82', '74'] \n",
      " ['543', '1020', '1664', '1022']\n"
     ]
    }
   ],
   "source": [
    "time = ls[0].split(':')\n",
    "time_intervals = re.split(r'\\s+', time[1].strip())\n",
    "\n",
    "distance = ls[1].split(':')\n",
    "distance_intervals = re.split(r'\\s+', distance[1].strip())\n",
    "\n",
    "print(time_intervals, '\\n', distance_intervals)"
   ]
  },
  {
   "cell_type": "code",
   "execution_count": 16,
   "metadata": {},
   "outputs": [
    {
     "data": {
      "text/plain": [
       "[['59', '543'], ['68', '1020'], ['82', '1664'], ['74', '1022']]"
      ]
     },
     "execution_count": 16,
     "metadata": {},
     "output_type": "execute_result"
    }
   ],
   "source": [
    "mapping = []\n",
    "for i in range(0, len(time_intervals)):\n",
    "    mapping.append([time_intervals[i], distance_intervals[i]])\n",
    "mapping"
   ]
  },
  {
   "cell_type": "markdown",
   "metadata": {},
   "source": [
    "Create a function to work out the appropriate distance."
   ]
  },
  {
   "cell_type": "code",
   "execution_count": 20,
   "metadata": {},
   "outputs": [],
   "source": [
    "def calculate_distance(case, speed = 1):\n",
    "    time_distance_ls = []\n",
    "    time = int(case[0])\n",
    "    for i in range(time):\n",
    "        button_time = i\n",
    "        race_time = time - i\n",
    "        race_distance = (speed * button_time) * race_time\n",
    "        if race_distance > int(case[1]):\n",
    "            time_distance_ls.append([i, race_time, race_distance])\n",
    "    return time_distance_ls\n"
   ]
  },
  {
   "cell_type": "markdown",
   "metadata": {},
   "source": [
    "Test with the example."
   ]
  },
  {
   "cell_type": "code",
   "execution_count": 22,
   "metadata": {},
   "outputs": [
    {
     "data": {
      "text/plain": [
       "[[11, 19, 209],\n",
       " [12, 18, 216],\n",
       " [13, 17, 221],\n",
       " [14, 16, 224],\n",
       " [15, 15, 225],\n",
       " [16, 14, 224],\n",
       " [17, 13, 221],\n",
       " [18, 12, 216],\n",
       " [19, 11, 209]]"
      ]
     },
     "execution_count": 22,
     "metadata": {},
     "output_type": "execute_result"
    }
   ],
   "source": [
    "test_case = [['30', '200']]\n",
    "calculate_distance(test_case[0])\n"
   ]
  },
  {
   "cell_type": "markdown",
   "metadata": {},
   "source": [
    "We have to calculate how many ways there are for each of our test cases, then multiply them together."
   ]
  },
  {
   "cell_type": "code",
   "execution_count": 23,
   "metadata": {},
   "outputs": [
    {
     "data": {
      "text/plain": [
       "275724"
      ]
     },
     "execution_count": 23,
     "metadata": {},
     "output_type": "execute_result"
    }
   ],
   "source": [
    "product = 1\n",
    "\n",
    "for map in mapping:\n",
    "    product *= len(calculate_distance(map))\n",
    "\n",
    "product"
   ]
  },
  {
   "cell_type": "markdown",
   "metadata": {},
   "source": [
    "Lovely- got the answer first time.  Now for Part 2."
   ]
  },
  {
   "cell_type": "markdown",
   "metadata": {},
   "source": [
    "Let's just brute force for Part 2 and see if it works.  If not I will start to think using some algebra."
   ]
  },
  {
   "cell_type": "code",
   "execution_count": 24,
   "metadata": {},
   "outputs": [
    {
     "data": {
      "text/plain": [
       "71503"
      ]
     },
     "execution_count": 24,
     "metadata": {},
     "output_type": "execute_result"
    }
   ],
   "source": [
    "len(calculate_distance(['71530', '940200']))\n",
    "\n",
    "# I get 71503, which matches the example answer."
   ]
  },
  {
   "cell_type": "markdown",
   "metadata": {},
   "source": [
    "Reformat our time and distance numbers from the input."
   ]
  },
  {
   "cell_type": "code",
   "execution_count": 31,
   "metadata": {},
   "outputs": [
    {
     "data": {
      "text/plain": [
       "'543102016641022'"
      ]
     },
     "execution_count": 31,
     "metadata": {},
     "output_type": "execute_result"
    }
   ],
   "source": [
    "time_intervals_v2 = ''\n",
    "for i in time_intervals:\n",
    "    time_intervals_v2 += i\n",
    "\n",
    "distance_intervals_v2 = ''\n",
    "for i in distance_intervals:\n",
    "    distance_intervals_v2 += i\n",
    "distance_intervals_v2\n"
   ]
  },
  {
   "cell_type": "markdown",
   "metadata": {},
   "source": [
    "Then calculate the number!"
   ]
  },
  {
   "cell_type": "code",
   "execution_count": 32,
   "metadata": {},
   "outputs": [
    {
     "data": {
      "text/plain": [
       "37286485"
      ]
     },
     "execution_count": 32,
     "metadata": {},
     "output_type": "execute_result"
    }
   ],
   "source": [
    "len(calculate_distance([time_intervals_v2, distance_intervals_v2]))\n"
   ]
  }
 ],
 "metadata": {
  "kernelspec": {
   "display_name": "Python 3.11.0 64-bit",
   "language": "python",
   "name": "python3"
  },
  "language_info": {
   "codemirror_mode": {
    "name": "ipython",
    "version": 3
   },
   "file_extension": ".py",
   "mimetype": "text/x-python",
   "name": "python",
   "nbconvert_exporter": "python",
   "pygments_lexer": "ipython3",
   "version": "3.9.10"
  },
  "orig_nbformat": 4,
  "vscode": {
   "interpreter": {
    "hash": "5c7b89af1651d0b8571dde13640ecdccf7d5a6204171d6ab33e7c296e100e08a"
   }
  }
 },
 "nbformat": 4,
 "nbformat_minor": 2
}
