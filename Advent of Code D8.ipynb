{
 "cells": [
  {
   "cell_type": "markdown",
   "metadata": {},
   "source": [
    "## Advent of Code Day 8"
   ]
  },
  {
   "cell_type": "code",
   "execution_count": 1,
   "metadata": {},
   "outputs": [],
   "source": [
    "import pandas as pd\n",
    "import re"
   ]
  },
  {
   "cell_type": "markdown",
   "metadata": {},
   "source": [
    "Import File"
   ]
  },
  {
   "cell_type": "code",
   "execution_count": 2,
   "metadata": {},
   "outputs": [
    {
     "data": {
      "text/plain": [
       "['LRLRLRLRRLRRRLRLRLRRRLLRRLRRLRRLLRRLRRLRLRRRLRRLLRRLRRRLRRLRRRLRRRLLLRRLLRLLRRRLLRRLRLLRLLRRRLLRRLRRLRRRLRRLRLRRLRRLRLLRLRRRLRLRRLRLLRRLRRRLRRLRLRRLLLRRLRRRLRRRLRRLRRRLRLRRLRRLRRRLRRLRRLRRLRRLRRRLLRRRLLLRRRLRRLRRRLLRRRLRRLRRLLLLLRRRLRLRRLRRLLRRLRRLRLRLRRRLRRRLRRLLLRRRR',\n",
       " 'BPQ = (VXR, TLN)\\nNSK = (FRM, GXV)\\nXVG = (BBC, SGF)\\nJTG = (LVR, MPK)\\nRNQ = (TMP, TLT)\\nVVX = (TVH, GCM)\\nDJH = (MMH, LLQ)\\nLQR = (HFF, FHP)\\nQFQ = (CFT, STF)\\nRJL = (TFG, CTR)\\nDRB = (GBQ, NRB)\\nKHK = (XDB, DVQ)\\nNCG = (SHP, LTM)\\nKSD = (KQT, PDB)\\nMGL = (LDG, DCN)\\nKFX = (HLG, VGF)\\nKFG = (JGB, GVH)\\nJLV = (CGX, MQN)\\nCCB = (JXL, LHD)\\nCSJ = (GQS, FHJ)\\nVPX = (RGL, XMD)\\nCHV = (DHP, DKG)\\nLRV = (MLC, HQQ)\\nBPJ = (QJP, VLR)\\nVFF = (PSS, NFD)\\nFCM = (JBG, NRK)\\nGBQ = (JRQ, TLQ)\\nVLM = (KRH, BMQ)\\nGXS = (TKS, TQZ)\\nNNM = (LDG, DCN)\\nQVN = (TMP, TLT)\\nJCR = (GLG, KFV)\\nMFM = (MXN, PMM)\\nGLG = (JSK, HHT)\\nLGH = (RXD, NDN)\\nCRH = (MCD, DSJ)\\nFDD = (XTR, QSS)\\nQQX = (XPS, XPS)\\nXGF = (LPL, PMR)\\nDFG = (FTR, JTK)\\nHHV = (KHK, QDJ)\\nLDX = (GBP, RFP)\\nJJD = (SNC, CST)\\nCGG = (VXR, TLN)\\nVQB = (LBM, RBD)\\nQRT = (DJH, BKC)\\nKFP = (SVN, SCG)\\nBKC = (LLQ, MMH)\\nKJF = (BGB, CTL)\\nVDL = (XFX, QGQ)\\nJNN = (CSX, JQX)\\nLDV = (TTQ, CQR)\\nSJD = (QNM, NSK)\\nRPD = (XFQ, SKS)\\nBMR = (MRH, RSM)\\nCNK = (QQK, DHQ)\\nMLD = (MNC, BQT)\\nPQS = (VLN, LJC)\\nHKK = (RQP, VGD)\\nQCS = (KVD, XPB)\\nKVD = (QRT, TVP)\\nJMK = (BLV, PQS)\\nCJF = (KPD, GRJ)\\nDTG = (TCX, LVM)\\nDQG = (GQQ, CQK)\\nVNN = (QNF, CDC)\\nSHV = (LLV, QNQ)\\nHQQ = (VNN, XPG)\\nLVM = (LQH, NVM)\\nVFP = (VPX, MRG)\\nSBG = (PXL, LNC)\\nPXL = (PCQ, RVK)\\nCXH = (SBL, SKV)\\nHTM = (PPF, RCT)\\nGBP = (JMX, JMX)\\nQMN = (BSJ, NBP)\\nDDJ = (LRF, NHV)\\nQMS = (GNT, DMH)\\nQDG = (CSF, NSB)\\nVGR = (QMS, BXX)\\nMCB = (SSQ, KNF)\\nJVL = (PCC, MQX)\\nRCQ = (PQP, CMP)\\nNQK = (KXG, DQR)\\nCFT = (QHQ, XKH)\\nCMP = (NPS, DXN)\\nKKV = (BPJ, QBG)\\nSGF = (CTP, KKQ)\\nBKL = (RCR, NFS)\\nJHN = (CGN, SHV)\\nGLB = (HMC, NFQ)\\nQTG = (FRF, LMN)\\nNFS = (LQX, KCL)\\nRNK = (QCB, BRJ)\\nKLX = (VST, SVR)\\nSMK = (JSJ, QTG)\\nKQJ = (FNS, NPD)\\nCQR = (JNC, BKP)\\nMCP = (HLM, SLC)\\nHMP = (QRN, BDN)\\nDQJ = (CNK, GSR)\\nXFD = (HMV, XPR)\\nBDB = (PQS, BLV)\\nBXG = (CHV, VVM)\\nCGN = (QNQ, LLV)\\nJDB = (FCS, FBX)\\nXFC = (MJT, QML)\\nPMR = (SJD, TGD)\\nGVP = (SBS, KJF)\\nXPS = (DQJ, DQJ)\\nKCF = (HCT, DBS)\\nKRH = (GDD, KLX)\\nFDT = (LHD, JXL)\\nVLH = (VJP, NCG)\\nJNC = (HPT, VDQ)\\nJMX = (MVJ, MVJ)\\nRKN = (CJF, CJF)\\nPFS = (LHB, FDD)\\nQXG = (RLP, DXM)\\nCTL = (JVX, MVN)\\nCTP = (JNG, VFP)\\nFBK = (DQL, KKX)\\nXBH = (XQK, LMV)\\nRXH = (DHM, DHM)\\nXNN = (NPM, GJF)\\nSKS = (XJP, MQL)\\nRNC = (FKF, RGS)\\nHNT = (NTV, RSG)\\nRCR = (LQX, KCL)\\nLMN = (PDT, QXG)\\nDGK = (QQX, RCK)\\nQGS = (GKL, PHD)\\nJSJ = (LMN, FRF)\\nJNG = (MRG, VPX)\\nKHF = (MHR, RDM)\\nMQX = (MKS, LRQ)\\nBXN = (LMV, XQK)\\nRCT = (DRK, QKJ)\\nNGL = (MMQ, JNN)\\nLXL = (RCH, TJF)\\nMVN = (NLN, CCC)\\nKGQ = (DML, VCT)\\nSVN = (DBR, JJD)\\nBKQ = (XKJ, JNM)\\nLCA = (CNK, GSR)\\nHHB = (HMK, HJP)\\nNHB = (BVP, JBL)\\nSXD = (SKC, RDJ)\\nTCX = (LQH, NVM)\\nCST = (QTC, KVK)\\nQRN = (RPD, QQF)\\nMXS = (DQG, NJC)\\nDPN = (LRV, DGH)\\nLJJ = (TSP, SKL)\\nLRF = (XFD, CKQ)\\nRSG = (QDL, GCD)\\nJBC = (SLC, HLM)\\nRVK = (RBM, JRP)\\nXQG = (DGH, LRV)\\nQDJ = (DVQ, XDB)\\nSMT = (BHN, KTM)\\nTPF = (SFV, BVD)\\nLGS = (RSQ, JCR)\\nDMB = (CRH, FQD)\\nLVN = (QMS, BXX)\\nMVJ = (TKS, TKS)\\nVXR = (RBP, RCQ)\\nCSX = (TNJ, DJG)\\nTVH = (RXH, RXH)\\nDXM = (LPF, LSS)\\nHCT = (KFX, CMC)\\nLHB = (QSS, XTR)\\nXNQ = (DQJ, XCZ)\\nNHK = (PDQ, FLN)\\nDKT = (QCL, QCL)\\nBVV = (JNN, MMQ)\\nXHP = (DDJ, SQN)\\nLMK = (LTK, MPV)\\nNNH = (NKM, KGQ)\\nCFG = (DPN, XQG)\\nBLM = (CNQ, KJX)\\nJKS = (MFX, VVF)\\nDHM = (XVL, XVL)\\nDRK = (LXL, PCH)\\nTLC = (TPQ, FRJ)\\nKPF = (SHL, NQH)\\nCCQ = (JMK, BDB)\\nLQK = (CGG, BPQ)\\nSHL = (FQG, XLS)\\nMJV = (PNF, PNF)\\nTNJ = (KSD, DHX)\\nQDL = (GJH, CMX)\\nBVF = (HNT, CPM)\\nKSB = (BPH, MXS)\\nFFB = (SFV, BVD)\\nPMM = (LSV, FCM)\\nJRQ = (LDV, FRP)\\nVMH = (BPJ, QBG)\\nKPD = (KBG, PFQ)\\nGRT = (KKX, DQL)\\nNJF = (DCG, MNK)\\nHMC = (VVX, VCD)\\nNTV = (QDL, GCD)\\nGVH = (LRR, HRC)\\nNCL = (LVN, VGR)\\nJRV = (QBQ, HJF)\\nFRF = (PDT, QXG)\\nNXP = (CGN, SHV)\\nJPR = (GBQ, NRB)\\nRFP = (JMX, VSH)\\nQCB = (GBT, BHR)\\nMBT = (NPD, FNS)\\nDTH = (VGR, LVN)\\nGRJ = (KBG, PFQ)\\nNPS = (FVB, FHL)\\nVVM = (DKG, DHP)\\nTRT = (KKV, VMH)\\nJSP = (NRT, NKC)\\nVLR = (RJL, NQR)\\nPPZ = (QKG, HCB)\\nVHV = (DRC, KMB)\\nBGG = (DDJ, SQN)\\nCSF = (MLD, BTC)\\nQQF = (XFQ, SKS)\\nFTM = (CNQ, KJX)\\nKKJ = (RPC, RRK)\\nQTV = (HFN, FXJ)\\nRRL = (JDH, TMT)\\nLTT = (HHV, KTD)\\nTBP = (SNF, RMH)\\nMCD = (FMM, DFG)\\nPQQ = (XFC, DSS)\\nHMV = (PHH, MXL)\\nQCL = (LCN, LCN)\\nMVX = (SSQ, KNF)\\nDXN = (FVB, FHL)\\nSKR = (RCR, NFS)\\nBVP = (BMR, JVJ)\\nNBP = (LTT, DBK)\\nHPT = (JKS, GNS)\\nLPL = (SJD, TGD)\\nRSQ = (GLG, KFV)\\nNBQ = (BPL, HGH)\\nPQP = (NPS, DXN)\\nLSS = (NHB, XVP)\\nCKL = (MCB, MVX)\\nLQX = (TPF, FFB)\\nTGD = (NSK, QNM)\\nFRP = (TTQ, CQR)\\nRCH = (CCB, FDT)\\nVVL = (RDJ, SKC)\\nNVA = (KPD, GRJ)\\nFMM = (FTR, JTK)\\nKPM = (MQX, PCC)\\nQXQ = (QDT, JLV)\\nJVJ = (MRH, RSM)\\nSMN = (HPX, CDM)\\nXTP = (LLD, QBC)\\nBVB = (JCR, RSQ)\\nJTN = (TND, JFQ)\\nCLK = (QXB, BGQ)\\nNMX = (FTM, BLM)\\nQKH = (BHN, KTM)\\nVJP = (SHP, LTM)\\nFNS = (SNX, GPP)\\nDGH = (MLC, HQQ)\\nNFM = (CVD, CTD)\\nNKM = (DML, VCT)\\nHMK = (FDX, SMK)\\nVVQ = (FDD, LHB)\\nFDX = (QTG, JSJ)\\nMKL = (TDX, DLC)\\nHQX = (GHS, LTX)\\nKJX = (MQB, CTV)\\nPHD = (NHK, PGQ)\\nKDF = (TDD, PJM)\\nMTK = (LCN, ZZZ)\\nNVM = (LCC, MKL)\\nXSH = (MJV, FRD)\\nLLQ = (GRS, CFG)\\nTGP = (XCK, MNR)\\nXVJ = (VLH, TTX)\\nPLR = (VVL, SXD)\\nCTR = (DHV, VFQ)\\nKKQ = (VFP, JNG)\\nBMQ = (GDD, KLX)\\nVVF = (LCV, MGX)\\nPGQ = (FLN, PDQ)\\nSSC = (MRN, JTG)\\nTDD = (HTB, TBP)\\nQKJ = (PCH, LXL)\\nGXV = (BXN, XBH)\\nMRG = (RGL, XMD)\\nKXJ = (NXP, JHN)\\nNFD = (NJF, BQP)\\nGSS = (HPP, HQX)\\nXDC = (JFC, JFC)\\nPNF = (MGL, NNM)\\nSQN = (LRF, NHV)\\nHJP = (FDX, SMK)\\nRBM = (HHB, LTN)\\nCRM = (RBD, LBM)\\nDBR = (CST, SNC)\\nNQR = (CTR, TFG)\\nGQS = (GVR, CFJ)\\nJSK = (FVF, VLM)\\nKHR = (DHM, GXN)\\nQST = (VCJ, LNT)\\nDQH = (NCV, LQR)\\nPCQ = (JRP, RBM)\\nMMH = (CFG, GRS)\\nFHP = (CSS, NNH)\\nBGB = (JVX, MVN)\\nRCK = (XPS, XNQ)\\nXGR = (NCH, GLV)\\nGCD = (CMX, GJH)\\nHJF = (NBF, TQF)\\nDRC = (LFP, FFR)\\nRGL = (BJR, DKP)\\nRSM = (LDX, HQB)\\nBTC = (BQT, MNC)\\nSRV = (SBL, SKV)\\nNFG = (JVT, SSC)\\nCGX = (BVK, XLG)\\nQFH = (KDR, LGT)\\nVCT = (JJF, DGK)\\nLBM = (PKL, SGH)\\nMKS = (QGF, JRV)\\nQSG = (LTK, MPV)\\nGGT = (BGG, XHP)\\nGVR = (VRD, CQJ)\\nGPD = (HQX, HPP)\\nLLD = (KDK, XVJ)\\nDCG = (LRN, XSS)\\nDSJ = (DFG, FMM)\\nXMD = (DKP, BJR)\\nMNK = (LRN, XSS)\\nFTT = (SVN, SCG)\\nCMX = (SRN, XSC)\\nXVP = (BVP, JBL)\\nBQP = (DCG, MNK)\\nRTM = (KHF, QPJ)\\nFFR = (KPV, XTP)\\nVLN = (PJQ, KTF)\\nJQX = (TNJ, DJG)\\nKTF = (PDG, KDF)\\nJVH = (LNC, PXL)\\nBPH = (NJC, DQG)\\nMFJ = (XHD, VFF)\\nCDC = (DLK, KMF)\\nMXN = (LSV, FCM)\\nLGT = (MPB, PNG)\\nXFT = (RCT, PPF)\\nBSJ = (DBK, LTT)\\nBVT = (JSP, QVG)\\nQBC = (XVJ, KDK)\\nVRD = (LFG, FHF)\\nKQT = (GVP, VGJ)\\nCSS = (NKM, KGQ)\\nHXL = (DTH, NCL)\\nFXJ = (DRB, JPR)\\nFFT = (JVT, SSC)\\nNJH = (NQK, BJM)\\nGHS = (CLL, NJH)\\nMMQ = (JQX, CSX)\\nPGD = (FKF, RGS)\\nPJQ = (KDF, PDG)\\nLFG = (KSB, CMM)\\nLRN = (BVF, KSQ)\\nGGX = (JSS, MTS)\\nLCC = (TDX, DLC)\\nHPP = (LTX, GHS)\\nCLL = (BJM, NQK)\\nTPQ = (XTC, TGP)\\nBQQ = (CHV, VVM)\\nPVJ = (LNT, VCJ)\\nQNQ = (QTV, CMH)\\nCVD = (XGF, NBH)\\nJVT = (MRN, JTG)\\nVFQ = (BXS, FCG)\\nCPM = (NTV, RSG)\\nQNF = (DLK, KMF)\\nGCA = (MGL, NNM)\\nMGX = (TFX, XNN)\\nMHR = (NJX, DNT)\\nKTM = (GDK, MQS)\\nKDR = (MPB, PNG)\\nNDF = (XXP, CJB)\\nZZZ = (SKQ, JKJ)\\nMQL = (FBK, GRT)\\nNHV = (CKQ, XFD)\\nNBH = (PMR, LPL)\\nKCL = (FFB, TPF)\\nBJR = (FTB, KXR)\\nXSM = (QCL, MTK)\\nKBG = (QSG, LMK)\\nSKC = (NBQ, DKC)\\nPNG = (CNM, LQK)\\nHTB = (RMH, SNF)\\nRDM = (NJX, DNT)\\nFRM = (BXN, XBH)\\nXTC = (MNR, XCK)\\nJVX = (NLN, CCC)\\nGVQ = (CDM, HPX)\\nSCG = (JJD, DBR)\\nCCC = (CMR, NKL)\\nSNC = (KVK, QTC)\\nGJF = (BHB, GGT)\\nBJK = (JPS, BKQ)\\nPCC = (LRQ, MKS)\\nRBV = (PVJ, QST)\\nKMF = (BQQ, BXG)\\nKSQ = (HNT, CPM)\\nLPN = (CJB, XXP)\\nDLK = (BXG, BQQ)\\nMPB = (CNM, LQK)\\nVSH = (MVJ, GXS)\\nQBQ = (NBF, TQF)\\nXLG = (LNF, KCF)\\nLRQ = (QGF, JRV)\\nPVQ = (SGF, BBC)\\nDSS = (MJT, QML)\\nTLQ = (FRP, LDV)\\nDHC = (XFC, DSS)\\nFRD = (PNF, SFZ)\\nHGH = (STV, VDL)\\nFHL = (FNC, TJJ)\\nDHQ = (XGR, NMN)\\nBRJ = (BHR, GBT)\\nCQJ = (FHF, LFG)\\nKDK = (TTX, VLH)\\nQJP = (NQR, RJL)\\nGCM = (RXH, KHR)\\nTFM = (GGR, BVT)\\nNKL = (JHH, CKL)\\nPFQ = (LMK, QSG)\\nXXP = (RBV, QRP)\\nPJM = (TBP, HTB)\\nLDG = (GVQ, SMN)\\nGNS = (VVF, MFX)\\nTTH = (MRX, KNT)\\nJXL = (QJD, HKK)\\nQKG = (XHK, RNK)\\nRXD = (SRV, CXH)\\nSBS = (CTL, BGB)\\nCSC = (JFC, XSH)\\nSKQ = (RNQ, QVN)\\nQSS = (QCS, QFP)\\nJJF = (QQX, QQX)\\nKMB = (LFP, FFR)\\nLMD = (RXD, NDN)\\nSSQ = (HMP, BGK)\\nGKL = (PGQ, NHK)\\nDMH = (KKJ, MTX)\\nRBD = (SGH, PKL)\\nJBG = (RLB, RRL)\\nXPR = (PHH, MXL)\\nPCH = (TJF, RCH)\\nSRN = (BJK, LLT)\\nRGV = (NFQ, HMC)\\nMPV = (NFM, CJK)\\nRLB = (JDH, TMT)\\nXQK = (CSJ, FRT)\\nTTX = (VJP, NCG)\\nGPB = (KNT, MRX)\\nXKH = (GPB, TTH)\\nXJP = (FBK, GRT)\\nSTF = (XKH, QHQ)\\nLCN = (JKJ, SKQ)\\nSBL = (MNV, QFH)\\nBQT = (QBB, NMX)\\nDBS = (CMC, KFX)\\nBVR = (BSJ, NBP)\\nSTV = (XFX, QGQ)\\nCDM = (QFQ, MBF)\\nNRK = (RRL, RLB)\\nQDT = (MQN, CGX)\\nJBL = (BMR, JVJ)\\nDBK = (HHV, KTD)\\nJNM = (JVL, KPM)\\nMPK = (QXQ, RHK)\\nNRT = (NSH, GRC)\\nCMH = (HFN, FXJ)\\nKFV = (HHT, JSK)\\nXCZ = (GSR, CNK)\\nGSR = (QQK, DHQ)\\nPPF = (QKJ, DRK)\\nBGQ = (KRM, SVX)\\nQGF = (QBQ, HJF)\\nSFZ = (NNM, MGL)\\nXHD = (NFD, PSS)\\nFTB = (TFM, CXQ)\\nXSS = (KSQ, BVF)\\nSGH = (XVG, PVQ)\\nNKC = (GRC, NSH)\\nRBP = (PQP, CMP)\\nBRR = (JGB, GVH)\\nPDT = (RLP, DXM)\\nGLV = (JTN, FVN)\\nXKJ = (KPM, JVL)\\nMQN = (XLG, BVK)\\nMRN = (LVR, MPK)\\nLNF = (HCT, DBS)\\nTLT = (MCP, JBC)\\nQVG = (NKC, NRT)\\nVGJ = (KJF, SBS)\\nPDB = (GVP, VGJ)\\nFRT = (FHJ, GQS)\\nGXN = (XVL, PPZ)\\nQHQ = (GPB, TTH)\\nDQR = (RFF, MFM)\\nTTQ = (JNC, BKP)\\nJTK = (CCQ, MBJ)\\nSLC = (QDG, BSP)\\nTDT = (TSP, SKL)\\nVGQ = (CKR, KPF)\\nTJJ = (PGD, RNC)\\nCXQ = (GGR, BVT)\\nFNC = (PGD, RNC)\\nJFQ = (DTG, GJL)\\nNPM = (GGT, BHB)\\nFQD = (MCD, DSJ)\\nTQF = (QGS, VVK)\\nSVX = (TLC, DDL)\\nTDX = (BVV, NGL)\\nMSV = (NCL, DTH)\\nGQQ = (BVB, LGS)\\nLNC = (PCQ, RVK)\\nBSP = (NSB, CSF)\\nMNR = (XTX, TRT)\\nPDQ = (GJM, TDL)\\nMBF = (CFT, STF)\\nQJD = (RQP, VGD)\\nCNM = (BPQ, CGG)\\nXLS = (GSS, GPD)\\nTFX = (NPM, GJF)\\nDLC = (BVV, NGL)\\nBVK = (LNF, KCF)\\nVGD = (DFF, XPK)\\nRGS = (LPN, NDF)\\nJRP = (HHB, LTN)\\nGDD = (VST, SVR)\\nBDN = (RPD, QQF)\\nXTX = (VMH, KKV)\\nNMN = (NCH, GLV)\\nCMC = (VGF, HLG)\\nNBF = (VVK, QGS)\\nLCV = (TFX, XNN)\\nBBC = (CTP, KKQ)\\nTHR = (DRC, KMB)\\nGNT = (MTX, KKJ)\\nDVQ = (RTM, VDX)\\nNFQ = (VVX, VCD)\\nCKQ = (HMV, XPR)\\nFCG = (VGQ, LDR)\\nKRM = (TLC, DDL)\\nLTX = (NJH, CLL)\\nVDQ = (JKS, GNS)\\nXSC = (LLT, BJK)\\nHQB = (GBP, RFP)\\nVDX = (KHF, QPJ)\\nRPC = (VFR, MFJ)\\nQTC = (FFT, NFG)\\nHLM = (BSP, QDG)\\nGGR = (QVG, JSP)\\nXCK = (XTX, TRT)\\nQFP = (KVD, XPB)\\nLMV = (CSJ, FRT)\\nSKL = (HXL, MSV)\\nTVP = (DJH, BKC)\\nQML = (QKH, SMT)\\nMNV = (KDR, LGT)\\nHRC = (SBG, JVH)\\nBJM = (KXG, DQR)\\nTND = (DTG, GJL)\\nJJN = (FQD, CRH)\\nLSV = (NRK, JBG)\\nGBT = (CLK, XVF)\\nBGK = (QRN, BDN)\\nBLV = (LJC, VLN)\\nKXR = (CXQ, TFM)\\nCMR = (JHH, CKL)\\nXFQ = (MQL, XJP)\\nMTX = (RPC, RRK)\\nNJC = (GQQ, CQK)\\nFVB = (FNC, TJJ)\\nFBX = (KXJ, TGM)\\nGPP = (XDC, CSC)\\nNRB = (JRQ, TLQ)\\nRRK = (VFR, MFJ)\\nTKS = (JJN, DMB)\\nGJH = (XSC, SRN)\\nCFJ = (CQJ, VRD)\\nMFX = (LCV, MGX)\\nXTR = (QFP, QCS)\\nQGQ = (DKT, XSM)\\nCFZ = (GRJ, KPD)\\nJGB = (HRC, LRR)\\nRDJ = (DKC, NBQ)\\nGRS = (XQG, DPN)\\nJPS = (XKJ, JNM)\\nJSS = (LJJ, TDT)\\nQPJ = (RDM, MHR)\\nDCN = (SMN, GVQ)\\nPKL = (XVG, PVQ)\\nSXA = (HCB, QKG)\\nLTN = (HJP, HMK)\\nLVR = (QXQ, RHK)\\nHFN = (JPR, DRB)\\nJDH = (HKC, GGX)\\nMRX = (SHB, JDB)\\nLFP = (KPV, XTP)\\nDKP = (KXR, FTB)\\nXPG = (QNF, CDC)\\nMRH = (LDX, HQB)\\nXFX = (DKT, DKT)\\nKKX = (HDB, DQH)\\nSVR = (KFP, FTT)\\nVCJ = (QMN, BVR)\\nLQH = (MKL, LCC)\\nMJT = (QKH, SMT)\\nQRP = (QST, PVJ)\\nTMP = (MCP, JBC)\\nHLG = (PFS, VVQ)\\nLLV = (CMH, QTV)\\nQBB = (BLM, FTM)\\nCTV = (HTM, XFT)\\nDNT = (KFG, BRR)\\nXHK = (BRJ, QCB)\\nCJK = (CTD, CVD)\\nAAA = (JKJ, SKQ)\\nBXX = (GNT, DMH)\\nHCB = (RNK, XHK)\\nLNT = (QMN, BVR)\\nTGM = (NXP, JHN)\\nCQK = (LGS, BVB)\\nCJB = (RBV, QRP)\\nHDB = (NCV, LQR)\\nCNQ = (CTV, MQB)\\nBHN = (GDK, GDK)\\nDML = (JJF, DGK)\\nFVF = (KRH, BMQ)\\nTSP = (MSV, HXL)\\nQBG = (VLR, QJP)\\nKNT = (JDB, SHB)\\nFCS = (TGM, KXJ)\\nFVN = (JFQ, TND)\\nDHV = (FCG, BXS)\\nXPK = (VHV, THR)\\nBKP = (VDQ, HPT)\\nVST = (FTT, KFP)\\nDLS = (VVL, SXD)\\nFTR = (MBJ, CCQ)\\nMXL = (CRM, VQB)\\nDHP = (DHC, PQQ)\\nBXS = (LDR, VGQ)\\nDQL = (HDB, DQH)\\nTMT = (GGX, HKC)\\nPFC = (CJF, CFZ)\\nCTD = (XGF, NBH)\\nVFR = (VFF, XHD)\\nRQP = (DFF, XPK)\\nLTK = (NFM, CJK)\\nMTS = (LJJ, TDT)\\nHHT = (FVF, VLM)\\nMNC = (QBB, NMX)\\nFKF = (LPN, NDF)\\nLHD = (QJD, HKK)\\nJFC = (MJV, MJV)\\nXXX = (LMD, LGH)\\nNCV = (HFF, FHP)\\nPSS = (BQP, NJF)\\nNQH = (XLS, FQG)\\nVGF = (VVQ, PFS)\\nSKV = (MNV, QFH)\\nLJC = (KTF, PJQ)\\nSNX = (XDC, CSC)\\nNDN = (CXH, SRV)\\nHKC = (MTS, JSS)\\nPHH = (CRM, VQB)\\nFLN = (GJM, TDL)\\nVVK = (PHD, GKL)\\nMQS = (RKN, PFC)\\nLRR = (JVH, SBG)\\nJKJ = (RNQ, QVN)\\nXVL = (HCB, QKG)\\nNPD = (SNX, GPP)\\nKTD = (QDJ, KHK)\\nTDL = (RGV, GLB)\\nSNF = (HLJ, XXX)\\nMBJ = (JMK, BDB)\\nGDK = (RKN, RKN)\\nSFV = (DLS, PLR)\\nKNF = (BGK, HMP)\\nXVF = (QXB, BGQ)\\nRMH = (HLJ, XXX)\\nLPF = (XVP, NHB)\\nNSH = (KQJ, MBT)\\nQNM = (GXV, FRM)\\nLTM = (BKL, SKR)\\nGJL = (TCX, LVM)\\nKXG = (RFF, MFM)\\nTFG = (DHV, VFQ)\\nHPX = (MBF, QFQ)\\nGJM = (GLB, RGV)\\nVCD = (TVH, GCM)\\nNLN = (NKL, CMR)\\nXPB = (TVP, QRT)\\nFRJ = (XTC, TGP)\\nFHF = (KSB, CMM)\\nKVK = (FFT, NFG)\\nGRC = (MBT, KQJ)\\nBHR = (XVF, CLK)\\nHLJ = (LMD, LGH)\\nLLT = (JPS, BKQ)\\nDKC = (BPL, HGH)\\nBPL = (STV, VDL)\\nSHB = (FBX, FCS)\\nFQG = (GPD, GSS)\\nTLN = (RCQ, RBP)\\nLDR = (CKR, KPF)\\nNCH = (JTN, FVN)\\nCMM = (BPH, MXS)\\nRLP = (LPF, LSS)\\nCKR = (SHL, NQH)\\nTJF = (FDT, CCB)\\nBVD = (DLS, PLR)\\nQQK = (XGR, NMN)\\nKPV = (QBC, LLD)\\nHFF = (NNH, CSS)\\nDKG = (PQQ, DHC)\\nTQZ = (DMB, JJN)\\nMLC = (VNN, XPG)\\nDHX = (PDB, KQT)\\nBHB = (XHP, BGG)\\nRHK = (QDT, JLV)\\nPDG = (PJM, TDD)\\nFHJ = (CFJ, GVR)\\nDJG = (KSD, DHX)\\nRFF = (MXN, PMM)\\nMQB = (HTM, XFT)\\nNSB = (BTC, MLD)\\nDDL = (FRJ, TPQ)\\nXDB = (VDX, RTM)\\nNJX = (KFG, BRR)\\nJHH = (MVX, MCB)\\nDFF = (THR, VHV)\\nGMA = (JJN, DMB)\\nSHP = (BKL, SKR)\\nQXB = (KRM, SVX)']"
      ]
     },
     "execution_count": 2,
     "metadata": {},
     "output_type": "execute_result"
    }
   ],
   "source": [
    "with open(\"D8 Input.txt\", \"r\") as file:\n",
    "    file_contents = file.read()\n",
    "# print(file_contents)\n",
    "ls = file_contents.split(\"\\n\\n\")\n",
    "ls[:10]"
   ]
  },
  {
   "cell_type": "markdown",
   "metadata": {},
   "source": [
    "Parse everything"
   ]
  },
  {
   "cell_type": "code",
   "execution_count": 9,
   "metadata": {},
   "outputs": [
    {
     "data": {
      "text/plain": [
       "['VXR', 'TLN']"
      ]
     },
     "execution_count": 9,
     "metadata": {},
     "output_type": "execute_result"
    }
   ],
   "source": [
    "left_rights = ls[0]\n",
    "mappings = [x.split(' = ') for x in ls[1].split(\"\\n\")]\n",
    "directions_dict = {}\n",
    "for mapping in mappings:\n",
    "    source = mapping[0]\n",
    "    next_left = re.findall(r'(\\w{3})', mapping[1])[0]\n",
    "    next_right = re.findall(r'(\\w{3})', mapping[1])[1]\n",
    "    directions_dict[source] = [next_left, next_right]\n",
    "directions_dict['BPQ']"
   ]
  },
  {
   "cell_type": "markdown",
   "metadata": {},
   "source": [
    "So now we need to cycle through the `left_rights` and determine how many steps it takes until we reach `ZZZ`."
   ]
  },
  {
   "cell_type": "code",
   "execution_count": 10,
   "metadata": {},
   "outputs": [
    {
     "name": "stdout",
     "output_type": "stream",
     "text": [
      "12643\n"
     ]
    }
   ],
   "source": [
    "i = 0\n",
    "location = 'AAA'\n",
    "\n",
    "while location != 'ZZZ':\n",
    "    direction = left_rights[i % len(left_rights)]\n",
    "    if direction == 'L':\n",
    "        location = directions_dict[location][0]\n",
    "    elif direction == 'R':\n",
    "        location = directions_dict[location][1]\n",
    "    i += 1\n",
    "print(i)"
   ]
  },
  {
   "cell_type": "markdown",
   "metadata": {},
   "source": [
    "Part 2"
   ]
  },
  {
   "cell_type": "markdown",
   "metadata": {},
   "source": [
    "Okay - this part requires us to start simultaneously on nodes that end in `A`, then the number of steps is how many it takes for *all* things starting at that time on `A` to be on a `Z` node."
   ]
  },
  {
   "cell_type": "code",
   "execution_count": 11,
   "metadata": {},
   "outputs": [
    {
     "data": {
      "text/plain": [
       "['LCA', 'NVA', 'GCA', 'SXA', 'AAA', 'GMA']"
      ]
     },
     "execution_count": 11,
     "metadata": {},
     "output_type": "execute_result"
    }
   ],
   "source": [
    "starting_nodes = [x for x in directions_dict.keys() if x[2] == 'A']\n",
    "starting_nodes"
   ]
  },
  {
   "cell_type": "code",
   "execution_count": 15,
   "metadata": {},
   "outputs": [
    {
     "name": "stdout",
     "output_type": "stream",
     "text": [
      "100000000\n",
      "200000000\n"
     ]
    },
    {
     "ename": "KeyboardInterrupt",
     "evalue": "",
     "output_type": "error",
     "traceback": [
      "\u001b[0;31m---------------------------------------------------------------------------\u001b[0m",
      "\u001b[0;31mKeyboardInterrupt\u001b[0m                         Traceback (most recent call last)",
      "\u001b[1;32m/Users/tobysusman/Desktop/Advent of Code 2023/Advent of Code D8.ipynb Cell 12\u001b[0m line \u001b[0;36m5\n\u001b[1;32m      <a href='vscode-notebook-cell:/Users/tobysusman/Desktop/Advent%20of%20Code%202023/Advent%20of%20Code%20D8.ipynb#X34sZmlsZQ%3D%3D?line=1'>2</a>\u001b[0m condition \u001b[39m=\u001b[39m \u001b[39m0\u001b[39m\n\u001b[1;32m      <a href='vscode-notebook-cell:/Users/tobysusman/Desktop/Advent%20of%20Code%202023/Advent%20of%20Code%20D8.ipynb#X34sZmlsZQ%3D%3D?line=3'>4</a>\u001b[0m \u001b[39mwhile\u001b[39;00m condition \u001b[39m!=\u001b[39m \u001b[39mlen\u001b[39m(starting_nodes):\n\u001b[0;32m----> <a href='vscode-notebook-cell:/Users/tobysusman/Desktop/Advent%20of%20Code%202023/Advent%20of%20Code%20D8.ipynb#X34sZmlsZQ%3D%3D?line=4'>5</a>\u001b[0m     direction \u001b[39m=\u001b[39m left_rights[j \u001b[39m%\u001b[39;49m \u001b[39mlen\u001b[39;49m(left_rights)]\n\u001b[1;32m      <a href='vscode-notebook-cell:/Users/tobysusman/Desktop/Advent%20of%20Code%202023/Advent%20of%20Code%20D8.ipynb#X34sZmlsZQ%3D%3D?line=5'>6</a>\u001b[0m     condition \u001b[39m=\u001b[39m \u001b[39m0\u001b[39m\n\u001b[1;32m      <a href='vscode-notebook-cell:/Users/tobysusman/Desktop/Advent%20of%20Code%202023/Advent%20of%20Code%20D8.ipynb#X34sZmlsZQ%3D%3D?line=6'>7</a>\u001b[0m     \u001b[39mfor\u001b[39;00m starting_node \u001b[39min\u001b[39;00m starting_nodes:\n",
      "\u001b[0;31mKeyboardInterrupt\u001b[0m: "
     ]
    }
   ],
   "source": [
    "j = 0\n",
    "condition = 0\n",
    "\n",
    "while condition != len(starting_nodes):\n",
    "    direction = left_rights[j % len(left_rights)]\n",
    "    condition = 0\n",
    "    for starting_node in starting_nodes:\n",
    "        if direction == 'L':\n",
    "            location = directions_dict[starting_node][0]\n",
    "        elif direction == 'R':\n",
    "            location = directions_dict[starting_node][1]\n",
    "        if location[2] == 'Z':\n",
    "            condition += 1\n",
    "    j += 1\n",
    "    if j % 100000000 == 0:\n",
    "        print(j)\n",
    "print(j)\n",
    "\n",
    "# Gave up some point after 200000000 which ran for 5 mins"
   ]
  },
  {
   "cell_type": "markdown",
   "metadata": {},
   "source": [
    "It is pretty clear that the number required here is pretty huge and not brute forceable.  From looking at the subreddit I have been fed the idea to look at the cycle lengths.  This makes a lot of sense."
   ]
  },
  {
   "cell_type": "markdown",
   "metadata": {},
   "source": [
    "Unfortunately I don't know a better way to find the lowest common multiple than to import in the relevant library, which feels a bit like cheating.  I also actually think that the brute force method is good, there was a very good [post](https://www.reddit.com/r/adventofcode/comments/18e6vdf/2023_day_8_part_2_an_explanation_for_why_the/) explaining that the inputs have been very carefully created in order to make sure that the cycle lengths are consistent, this means that a *hacky* approach like using the lowest common multiple is successful."
   ]
  },
  {
   "cell_type": "code",
   "execution_count": 19,
   "metadata": {},
   "outputs": [],
   "source": [
    "from math import gcd"
   ]
  },
  {
   "cell_type": "code",
   "execution_count": 21,
   "metadata": {},
   "outputs": [],
   "source": [
    "cycle_lengths = []\n",
    "for starting_node in starting_nodes:\n",
    "    location = starting_node\n",
    "    i = 0\n",
    "    while location[2] != 'Z':\n",
    "        direction = left_rights[i % len(left_rights)]\n",
    "        if direction == 'L':\n",
    "            location = directions_dict[location][0]\n",
    "        elif direction == 'R':\n",
    "            location = directions_dict[location][1]\n",
    "        i += 1\n",
    "    cycle_lengths.append(i)"
   ]
  },
  {
   "cell_type": "code",
   "execution_count": 23,
   "metadata": {},
   "outputs": [
    {
     "data": {
      "text/plain": [
       "13133452426987"
      ]
     },
     "execution_count": 23,
     "metadata": {},
     "output_type": "execute_result"
    }
   ],
   "source": [
    "cycle_lengths\n",
    "\n",
    "lcm = 1\n",
    "for i in cycle_lengths:\n",
    "    lcm = lcm * i // gcd(lcm, i)\n",
    "\n",
    "lcm"
   ]
  },
  {
   "cell_type": "markdown",
   "metadata": {},
   "source": [
    "So before it took me 5 mins to run through 200000000 entries.  If I had carried on at that rate, it would've taken me about 3 years I think to run and brute force the answer."
   ]
  }
 ],
 "metadata": {
  "kernelspec": {
   "display_name": "Python 3.11.0 64-bit",
   "language": "python",
   "name": "python3"
  },
  "language_info": {
   "codemirror_mode": {
    "name": "ipython",
    "version": 3
   },
   "file_extension": ".py",
   "mimetype": "text/x-python",
   "name": "python",
   "nbconvert_exporter": "python",
   "pygments_lexer": "ipython3",
   "version": "3.9.10"
  },
  "orig_nbformat": 4,
  "vscode": {
   "interpreter": {
    "hash": "5c7b89af1651d0b8571dde13640ecdccf7d5a6204171d6ab33e7c296e100e08a"
   }
  }
 },
 "nbformat": 4,
 "nbformat_minor": 2
}
