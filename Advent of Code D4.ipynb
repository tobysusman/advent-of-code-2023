{
 "cells": [
  {
   "cell_type": "markdown",
   "metadata": {},
   "source": [
    "## Advent of Code Day 3"
   ]
  },
  {
   "cell_type": "code",
   "execution_count": 1,
   "metadata": {},
   "outputs": [],
   "source": [
    "import pandas as pd\n",
    "import re"
   ]
  },
  {
   "cell_type": "markdown",
   "metadata": {},
   "source": [
    "Import File"
   ]
  },
  {
   "cell_type": "code",
   "execution_count": 4,
   "metadata": {},
   "outputs": [
    {
     "data": {
      "text/plain": [
       "['Card   1: 69 61 27 58 89 52 81 94 40 51 | 43 40 52 90 37 97 89 80 69 42 51 70 94 58 10 73 21 29 61 63 57 79 81 27 35',\n",
       " 'Card   2:  5 75 37 76 98 32 24 83 44 50 | 80 75 91  5 33 52 31 96 83 92 46 98 55 65 48 24 44  4 32 60 88 37 76 50 77',\n",
       " 'Card   3: 37 39 43 53 47 20 50 56 78 65 | 80 56 32 78 72 97 40 77 17 50 87 99 36 93 63 19 39 59 44 52 23 75  9 51 43',\n",
       " 'Card   4:  6 25 31 60  2 50 89 67 82 16 | 65 89  5 67 68 53 50  6 51 25 96 32  2 16 41 60 63 90 82 30 98 31 75 14  7',\n",
       " 'Card   5: 43 39 98 45 33 87 36 23 61 66 | 93 61  4 21 47 32 94 99 45 23 87 64 92 43 33  5 83 16 98 44 39 77 66 18 36']"
      ]
     },
     "execution_count": 4,
     "metadata": {},
     "output_type": "execute_result"
    }
   ],
   "source": [
    "with open(\"D4 Input.txt\", \"r\") as file:\n",
    "    file_contents = file.read()\n",
    "# print(file_contents)\n",
    "ls = file_contents.split(\"\\n\")\n",
    "ls[:5]"
   ]
  },
  {
   "cell_type": "markdown",
   "metadata": {},
   "source": [
    "We have about 200 scratchcards.  For each of them let's just parse them nicely to [Card Number, [Winning Numbers], [Potential Numbers]]."
   ]
  },
  {
   "cell_type": "code",
   "execution_count": 22,
   "metadata": {},
   "outputs": [
    {
     "data": {
      "text/plain": [
       "[['1',\n",
       "  ['69', '61', '27', '58', '89', '52', '81', '94', '40', '51'],\n",
       "  ['43',\n",
       "   '40',\n",
       "   '52',\n",
       "   '90',\n",
       "   '37',\n",
       "   '97',\n",
       "   '89',\n",
       "   '80',\n",
       "   '69',\n",
       "   '42',\n",
       "   '51',\n",
       "   '70',\n",
       "   '94',\n",
       "   '58',\n",
       "   '10',\n",
       "   '73',\n",
       "   '21',\n",
       "   '29',\n",
       "   '61',\n",
       "   '63',\n",
       "   '57',\n",
       "   '79',\n",
       "   '81',\n",
       "   '27',\n",
       "   '35']],\n",
       " ['2',\n",
       "  ['5', '75', '37', '76', '98', '32', '24', '83', '44', '50'],\n",
       "  ['80',\n",
       "   '75',\n",
       "   '91',\n",
       "   '5',\n",
       "   '33',\n",
       "   '52',\n",
       "   '31',\n",
       "   '96',\n",
       "   '83',\n",
       "   '92',\n",
       "   '46',\n",
       "   '98',\n",
       "   '55',\n",
       "   '65',\n",
       "   '48',\n",
       "   '24',\n",
       "   '44',\n",
       "   '4',\n",
       "   '32',\n",
       "   '60',\n",
       "   '88',\n",
       "   '37',\n",
       "   '76',\n",
       "   '50',\n",
       "   '77']],\n",
       " ['3',\n",
       "  ['37', '39', '43', '53', '47', '20', '50', '56', '78', '65'],\n",
       "  ['80',\n",
       "   '56',\n",
       "   '32',\n",
       "   '78',\n",
       "   '72',\n",
       "   '97',\n",
       "   '40',\n",
       "   '77',\n",
       "   '17',\n",
       "   '50',\n",
       "   '87',\n",
       "   '99',\n",
       "   '36',\n",
       "   '93',\n",
       "   '63',\n",
       "   '19',\n",
       "   '39',\n",
       "   '59',\n",
       "   '44',\n",
       "   '52',\n",
       "   '23',\n",
       "   '75',\n",
       "   '9',\n",
       "   '51',\n",
       "   '43']],\n",
       " ['4',\n",
       "  ['6', '25', '31', '60', '2', '50', '89', '67', '82', '16'],\n",
       "  ['65',\n",
       "   '89',\n",
       "   '5',\n",
       "   '67',\n",
       "   '68',\n",
       "   '53',\n",
       "   '50',\n",
       "   '6',\n",
       "   '51',\n",
       "   '25',\n",
       "   '96',\n",
       "   '32',\n",
       "   '2',\n",
       "   '16',\n",
       "   '41',\n",
       "   '60',\n",
       "   '63',\n",
       "   '90',\n",
       "   '82',\n",
       "   '30',\n",
       "   '98',\n",
       "   '31',\n",
       "   '75',\n",
       "   '14',\n",
       "   '7']],\n",
       " ['5',\n",
       "  ['43', '39', '98', '45', '33', '87', '36', '23', '61', '66'],\n",
       "  ['93',\n",
       "   '61',\n",
       "   '4',\n",
       "   '21',\n",
       "   '47',\n",
       "   '32',\n",
       "   '94',\n",
       "   '99',\n",
       "   '45',\n",
       "   '23',\n",
       "   '87',\n",
       "   '64',\n",
       "   '92',\n",
       "   '43',\n",
       "   '33',\n",
       "   '5',\n",
       "   '83',\n",
       "   '16',\n",
       "   '98',\n",
       "   '44',\n",
       "   '39',\n",
       "   '77',\n",
       "   '66',\n",
       "   '18',\n",
       "   '36']]]"
      ]
     },
     "execution_count": 22,
     "metadata": {},
     "output_type": "execute_result"
    }
   ],
   "source": [
    "scratchcard_parsing = []\n",
    "for card in ls:\n",
    "    card_id = re.search(r'Card\\s+(\\d+)', card).group(1)\n",
    "    winning_numbers = str(re.search(r':\\s+([\\d\\s]+)\\s\\|', card).group(1)).replace('  ', ' ').split(' ')\n",
    "    scratchcard_numbers = str(re.search(r'\\|\\s+([\\d\\s]+)', card).group(1)).replace('  ', ' ').split(' ')\n",
    "    scratchcard_parsing.append([card_id, winning_numbers, scratchcard_numbers])\n",
    "scratchcard_parsing[:5]"
   ]
  },
  {
   "cell_type": "markdown",
   "metadata": {},
   "source": [
    "Let's then just define a function to get the score."
   ]
  },
  {
   "cell_type": "code",
   "execution_count": 24,
   "metadata": {},
   "outputs": [],
   "source": [
    "def power_score(number_of_matches = 0):\n",
    "    if number_of_matches == 0:\n",
    "        result = 0\n",
    "    else:\n",
    "        result = 2**(number_of_matches-1)\n",
    "    return result"
   ]
  },
  {
   "cell_type": "markdown",
   "metadata": {},
   "source": [
    "Then we will cycle through, take the number of matches and then get the score."
   ]
  },
  {
   "cell_type": "code",
   "execution_count": 25,
   "metadata": {},
   "outputs": [],
   "source": [
    "def list_one_in_list_two(list_one, list_two):\n",
    "    empty_ls = []\n",
    "    for item in list_one:\n",
    "        if item in list_two:\n",
    "            empty_ls.append(item)\n",
    "    return empty_ls"
   ]
  },
  {
   "cell_type": "code",
   "execution_count": 27,
   "metadata": {},
   "outputs": [
    {
     "data": {
      "text/plain": [
       "26914"
      ]
     },
     "execution_count": 27,
     "metadata": {},
     "output_type": "execute_result"
    }
   ],
   "source": [
    "score = 0\n",
    "for scratchcard in scratchcard_parsing:\n",
    "    scratchcard_id = scratchcard[0]\n",
    "    winning_numbers = scratchcard[1]\n",
    "    scratchcard_numbers = scratchcard[2]\n",
    "    number_of_matches = len(list_one_in_list_two(winning_numbers, scratchcard_numbers))\n",
    "    score += power_score(len(list_one_in_list_two(winning_numbers, scratchcard_numbers)))\n",
    "score"
   ]
  },
  {
   "cell_type": "markdown",
   "metadata": {},
   "source": [
    "Part 2"
   ]
  },
  {
   "cell_type": "markdown",
   "metadata": {},
   "source": [
    "Okay - this is super confusing, I need to work out how to iterate through lots of versions of the same thing."
   ]
  },
  {
   "cell_type": "markdown",
   "metadata": {},
   "source": [
    "My first thing to make my life easier is going to be to convert my `scratchcard_parsing` into a dictionary.  This will mean that at least I can easily find and reference things."
   ]
  },
  {
   "cell_type": "code",
   "execution_count": 31,
   "metadata": {},
   "outputs": [
    {
     "data": {
      "text/plain": [
       "[['69', '61', '27', '58', '89', '52', '81', '94', '40', '51'],\n",
       " ['43',\n",
       "  '40',\n",
       "  '52',\n",
       "  '90',\n",
       "  '37',\n",
       "  '97',\n",
       "  '89',\n",
       "  '80',\n",
       "  '69',\n",
       "  '42',\n",
       "  '51',\n",
       "  '70',\n",
       "  '94',\n",
       "  '58',\n",
       "  '10',\n",
       "  '73',\n",
       "  '21',\n",
       "  '29',\n",
       "  '61',\n",
       "  '63',\n",
       "  '57',\n",
       "  '79',\n",
       "  '81',\n",
       "  '27',\n",
       "  '35']]"
      ]
     },
     "execution_count": 31,
     "metadata": {},
     "output_type": "execute_result"
    }
   ],
   "source": [
    "scratchcard_dictionary = {}\n",
    "for scratchcard in scratchcard_parsing:\n",
    "    scratchcard_dictionary[scratchcard[0]] = scratchcard[1:3]\n",
    "scratchcard_dictionary['1']"
   ]
  },
  {
   "cell_type": "markdown",
   "metadata": {},
   "source": [
    "Now to look at iterating through."
   ]
  },
  {
   "cell_type": "code",
   "execution_count": 98,
   "metadata": {},
   "outputs": [
    {
     "data": {
      "text/plain": [
       "[[2,\n",
       "  ['5', '75', '37', '76', '98', '32', '24', '83', '44', '50'],\n",
       "  ['80',\n",
       "   '75',\n",
       "   '91',\n",
       "   '5',\n",
       "   '33',\n",
       "   '52',\n",
       "   '31',\n",
       "   '96',\n",
       "   '83',\n",
       "   '92',\n",
       "   '46',\n",
       "   '98',\n",
       "   '55',\n",
       "   '65',\n",
       "   '48',\n",
       "   '24',\n",
       "   '44',\n",
       "   '4',\n",
       "   '32',\n",
       "   '60',\n",
       "   '88',\n",
       "   '37',\n",
       "   '76',\n",
       "   '50',\n",
       "   '77']],\n",
       " [3,\n",
       "  ['37', '39', '43', '53', '47', '20', '50', '56', '78', '65'],\n",
       "  ['80',\n",
       "   '56',\n",
       "   '32',\n",
       "   '78',\n",
       "   '72',\n",
       "   '97',\n",
       "   '40',\n",
       "   '77',\n",
       "   '17',\n",
       "   '50',\n",
       "   '87',\n",
       "   '99',\n",
       "   '36',\n",
       "   '93',\n",
       "   '63',\n",
       "   '19',\n",
       "   '39',\n",
       "   '59',\n",
       "   '44',\n",
       "   '52',\n",
       "   '23',\n",
       "   '75',\n",
       "   '9',\n",
       "   '51',\n",
       "   '43']]]"
      ]
     },
     "execution_count": 98,
     "metadata": {},
     "output_type": "execute_result"
    }
   ],
   "source": [
    "def take_next_entries(start_number, number_of_entries):\n",
    "    next_scratchcard_list = []\n",
    "    for i in range(start_number + 1, start_number + number_of_entries + 1):\n",
    "        next_scratchcard_list.append([i, scratchcard_dictionary[str(i)][0], scratchcard_dictionary[str(i)][1]])\n",
    "    return next_scratchcard_list\n",
    "\n",
    "take_next_entries(1,2)"
   ]
  },
  {
   "cell_type": "code",
   "execution_count": 103,
   "metadata": {},
   "outputs": [
    {
     "data": {
      "text/plain": [
       "[209, '210', '211', '212', '213', '211', '212']"
      ]
     },
     "execution_count": 103,
     "metadata": {},
     "output_type": "execute_result"
    }
   ],
   "source": [
    "list_of_cards = []\n",
    "def iterate_through_cards(card_id):\n",
    "    list_of_cards.append(card_id)\n",
    "    card_details = scratchcard_dictionary[str(card_id)]\n",
    "    winning_numbers = card_details[0]\n",
    "    scratchcard_numbers = card_details[1]\n",
    "    number_of_winning_entries = len(list_one_in_list_two(winning_numbers, scratchcard_numbers))\n",
    "    if number_of_winning_entries == 0:\n",
    "        return number_of_winning_entries #that will need to be updated\n",
    "    else:\n",
    "        for card in take_next_entries(int(card_id), number_of_winning_entries):\n",
    "            iterate_through_cards(str(card[0]))\n",
    "\n",
    "\n",
    "iterate_through_cards(209)\n",
    "list_of_cards"
   ]
  },
  {
   "cell_type": "code",
   "execution_count": 104,
   "metadata": {},
   "outputs": [
    {
     "name": "stdout",
     "output_type": "stream",
     "text": [
      "13080971\n"
     ]
    },
    {
     "data": {
      "text/plain": [
       "['1', '2', '3', '4', '5', '6', '7', '8', '9', '10']"
      ]
     },
     "execution_count": 104,
     "metadata": {},
     "output_type": "execute_result"
    }
   ],
   "source": [
    "list_of_cards = []\n",
    "for card in scratchcard_dictionary.keys():\n",
    "    iterate_through_cards(card)\n",
    "print(len(list_of_cards)) #7022331 is too low, changing to append at the beginning, now 20103302 which is too high, now removing append from the last step.13080971\n",
    "list_of_cards[:10]"
   ]
  },
  {
   "cell_type": "markdown",
   "metadata": {},
   "source": [
    "I did recursion!  It is definitely not beautiful but I am really happy with myself for this, usually recursion totally throws me."
   ]
  }
 ],
 "metadata": {
  "kernelspec": {
   "display_name": "Python 3.11.0 64-bit",
   "language": "python",
   "name": "python3"
  },
  "language_info": {
   "codemirror_mode": {
    "name": "ipython",
    "version": 3
   },
   "file_extension": ".py",
   "mimetype": "text/x-python",
   "name": "python",
   "nbconvert_exporter": "python",
   "pygments_lexer": "ipython3",
   "version": "3.9.10"
  },
  "orig_nbformat": 4,
  "vscode": {
   "interpreter": {
    "hash": "5c7b89af1651d0b8571dde13640ecdccf7d5a6204171d6ab33e7c296e100e08a"
   }
  }
 },
 "nbformat": 4,
 "nbformat_minor": 2
}
