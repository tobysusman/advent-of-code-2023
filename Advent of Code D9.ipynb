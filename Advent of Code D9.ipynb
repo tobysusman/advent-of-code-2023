{
 "cells": [
  {
   "cell_type": "markdown",
   "metadata": {},
   "source": [
    "## Advent of Code Day 9"
   ]
  },
  {
   "cell_type": "code",
   "execution_count": 1,
   "metadata": {},
   "outputs": [],
   "source": [
    "import pandas as pd\n",
    "import re"
   ]
  },
  {
   "cell_type": "markdown",
   "metadata": {},
   "source": [
    "Import File"
   ]
  },
  {
   "cell_type": "code",
   "execution_count": 85,
   "metadata": {},
   "outputs": [
    {
     "data": {
      "text/plain": [
       "['23 45 81 131 195 273 365 471 591 725 873 1035 1211 1401 1605 1823 2055 2301 2561 2835 3123',\n",
       " '10 9 7 18 72 228 601 1407 3030 6115 11691 21328 37332 62982 102813 162949 251490 378957 558799 807966 1147552',\n",
       " '15 24 45 84 160 333 746 1690 3708 7756 15432 29276 53164 92931 157702 263310 441377 762715 1394801 2735901 5712640',\n",
       " '9 23 37 51 65 79 93 107 121 135 149 163 177 191 205 219 233 247 261 275 289',\n",
       " '-4 -3 1 6 15 44 130 350 877 2122 5057 11920 27747 63713 144400 323457 716912 1573135 3418095 7353718 15663901',\n",
       " '11 11 6 -2 -6 19 151 584 1719 4277 9421 18878 35121 61944 106521 185777 343407 690347 1492628 3348666 7526272',\n",
       " '24 34 55 114 262 593 1272 2573 4927 8979 15652 26215 42351 66220 100511 148476 213938 301264 415293 561208 744340',\n",
       " '16 29 42 55 68 81 94 107 120 133 146 159 172 185 198 211 224 237 250 263 276',\n",
       " '12 18 27 48 109 267 618 1307 2538 4584 7797 12618 19587 29353 42684 60477 83768 113742 151743 199284 258057',\n",
       " '12 21 46 108 251 565 1227 2564 5142 9885 18228 32308 55197 91181 146089 227676 346064 514245 748650 1069788 1502959']"
      ]
     },
     "execution_count": 85,
     "metadata": {},
     "output_type": "execute_result"
    }
   ],
   "source": [
    "with open(\"D9 Input.txt\", \"r\") as file:\n",
    "    file_contents = file.read()\n",
    "# print(file_contents)\n",
    "ls = file_contents.split(\"\\n\")\n",
    "ls[:10]"
   ]
  },
  {
   "cell_type": "markdown",
   "metadata": {},
   "source": [
    "Split list into sequences:"
   ]
  },
  {
   "cell_type": "code",
   "execution_count": 86,
   "metadata": {},
   "outputs": [
    {
     "data": {
      "text/plain": [
       "[['23',\n",
       "  '45',\n",
       "  '81',\n",
       "  '131',\n",
       "  '195',\n",
       "  '273',\n",
       "  '365',\n",
       "  '471',\n",
       "  '591',\n",
       "  '725',\n",
       "  '873',\n",
       "  '1035',\n",
       "  '1211',\n",
       "  '1401',\n",
       "  '1605',\n",
       "  '1823',\n",
       "  '2055',\n",
       "  '2301',\n",
       "  '2561',\n",
       "  '2835',\n",
       "  '3123'],\n",
       " ['10',\n",
       "  '9',\n",
       "  '7',\n",
       "  '18',\n",
       "  '72',\n",
       "  '228',\n",
       "  '601',\n",
       "  '1407',\n",
       "  '3030',\n",
       "  '6115',\n",
       "  '11691',\n",
       "  '21328',\n",
       "  '37332',\n",
       "  '62982',\n",
       "  '102813',\n",
       "  '162949',\n",
       "  '251490',\n",
       "  '378957',\n",
       "  '558799',\n",
       "  '807966',\n",
       "  '1147552']]"
      ]
     },
     "execution_count": 86,
     "metadata": {},
     "output_type": "execute_result"
    }
   ],
   "source": [
    "sequences = [x.split(\" \") for x in ls]\n",
    "sequences[:2]"
   ]
  },
  {
   "cell_type": "markdown",
   "metadata": {},
   "source": [
    "Now iterate through the sequence to determine at what _order_ the sequence changes."
   ]
  },
  {
   "cell_type": "code",
   "execution_count": 64,
   "metadata": {},
   "outputs": [
    {
     "data": {
      "text/plain": [
       "68"
      ]
     },
     "execution_count": 64,
     "metadata": {},
     "output_type": "execute_result"
    }
   ],
   "source": [
    "def sequence_identifier(sequence, sequence_gap_history = None):\n",
    "    if sequence_gap_history is None:\n",
    "        sequence_gap_history = [sequence]\n",
    "    if len(list(set(sequence))) == 1:\n",
    "       total = 0\n",
    "       for i in [x + 1 for x in range(len(sequence_gap_history))]:\n",
    "           prev_difference = sequence_gap_history[-1 * i][-1]\n",
    "           total += prev_difference\n",
    "       return total\n",
    "    else:\n",
    "        sequence_gaps = [sequence[i + 1] - sequence[i] for i in range(len(sequence) - 1)]\n",
    "        sequence_gap_history.append(sequence_gaps)\n",
    "        return sequence_identifier(sequence_gaps, sequence_gap_history)\n",
    "\n",
    "sequence_identifier([10,13,16,21,30,45])"
   ]
  },
  {
   "cell_type": "code",
   "execution_count": 66,
   "metadata": {},
   "outputs": [
    {
     "data": {
      "text/plain": [
       "1974913025"
      ]
     },
     "execution_count": 66,
     "metadata": {},
     "output_type": "execute_result"
    }
   ],
   "source": [
    "rolling_sum = 0\n",
    "for sequence in sequences:\n",
    "    rolling_sum += sequence_identifier([int(x) for x in sequence])\n",
    "rolling_sum"
   ]
  },
  {
   "cell_type": "markdown",
   "metadata": {},
   "source": [
    "Part 2"
   ]
  },
  {
   "cell_type": "markdown",
   "metadata": {},
   "source": [
    "This is very similar to Part 1, but just reversing the list.  I reckon I can do this pretty quickly."
   ]
  },
  {
   "cell_type": "code",
   "execution_count": 88,
   "metadata": {},
   "outputs": [
    {
     "data": {
      "text/plain": [
       "884"
      ]
     },
     "execution_count": 88,
     "metadata": {},
     "output_type": "execute_result"
    }
   ],
   "source": [
    "rolling_sum_pt_2 = 0\n",
    "\n",
    "for sequence in sequences:\n",
    "    rolling_sum_pt_2 += sequence_identifier([int(x) for x in list(reversed(sequence))])\n",
    "rolling_sum_pt_2"
   ]
  }
 ],
 "metadata": {
  "kernelspec": {
   "display_name": "Python 3.11.0 64-bit",
   "language": "python",
   "name": "python3"
  },
  "language_info": {
   "codemirror_mode": {
    "name": "ipython",
    "version": 3
   },
   "file_extension": ".py",
   "mimetype": "text/x-python",
   "name": "python",
   "nbconvert_exporter": "python",
   "pygments_lexer": "ipython3",
   "version": "3.9.10"
  },
  "orig_nbformat": 4,
  "vscode": {
   "interpreter": {
    "hash": "5c7b89af1651d0b8571dde13640ecdccf7d5a6204171d6ab33e7c296e100e08a"
   }
  }
 },
 "nbformat": 4,
 "nbformat_minor": 2
}
