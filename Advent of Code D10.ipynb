{
 "cells": [
  {
   "cell_type": "markdown",
   "metadata": {},
   "source": [
    "## Advent of Code Day 10"
   ]
  },
  {
   "cell_type": "code",
   "execution_count": 16,
   "metadata": {},
   "outputs": [],
   "source": [
    "import pandas as pd\n",
    "import re"
   ]
  },
  {
   "cell_type": "markdown",
   "metadata": {},
   "source": [
    "Import File"
   ]
  },
  {
   "cell_type": "code",
   "execution_count": 17,
   "metadata": {},
   "outputs": [
    {
     "data": {
      "text/plain": [
       "['|-F7|77FJ-J7..L.-7-7.F--7-J7-FJ7|.FFFF7F-|7|7.J.-|7--F|-LL---77FF--7-|-LF77F|7FF-JFF7FJ-|7F.F7FFL-J7FFL-J-7-FFF7JF|-L77|-F7.FL7F7-7.7.FLF-F7',\n",
       " '7.L|.LJJ.LLL7L-LJ|L--J7FL|LF7.LJL77.7--J7LFL|.L.L7JJF7JJ|JFLFFJ7|J|F-LF-||FF|7F7|-7.7-J7|FJ.|L7--7J-L7||J--.||LJ.FLJ.-LJL-JJ7JF7L7|L7F77L777',\n",
       " '--FL7FJ-7.||J.L||LFL-|--7L7L-7|LF77.|L|.7-|JL7F7J|...L7FJ77--7|||F-|J7LL|L-7F7|LJ.|LJ|.L-FJ.FFLJF|JL7|FL-L|FL|.FFJL-7J.LF|-L--777LFJL|LJ-|J7',\n",
       " 'FL|--JJJ|7-7F--JJ-7.|L7.|FL-F|FF||F-7.LF.L7.|LLJF77FJ|F|7|.7FLFF-J.7-7-LL7FJ||7.LFLJ7FJ.7JL7-7|--JLFL-L-7-F|-JF777F-J||--JF77.JL7-|.FJF|.LJ-',\n",
       " '-7JFJ|--J|L7JF7-|J|-FLJ7--LF7F--J||FJF7JLFJFJFJFFJ|7|LF7JLLJJ|FJ7J||LF.F-J|FJL77F||FF7|F777|JLF7...|L7FF-7.F-|JJ.FL..LJ-JF|L7L7F-7F--J-L-7J.',\n",
       " '|JF-JL7LF|.|.-7LJ-F-7|.|7FF||L7F-J||FJL7J|---L77J.||FJ||L|LJJ|L|L-777F7L7FJL-7L7F777|L7F---7J.|J-FF7-J--JLF|J.|FJ--|-.L-FF7.JFLJ7|J.L7J.|||F',\n",
       " 'LF7-F-|-||7JF7LFJ7||.FFL-LL||.||F7|LJF-JL7FL-7F7.|F-JFJ|777|.|-F77LF-J|FJL-7-L7||L7-L7|L-7FJ-FF-F7JLFJL|7F7|L-L7J7-J.|..---JFLJ|F7F7.|77||7J',\n",
       " 'L|LF|7L-LFJ.||7LLF|7-JJ7JJ.|L-J|||L7FJ|F77J7LFJL777-F|FJ||-77LF--77L-7|L7F-JF-J||FJF-JL7J|||-FF7F7.|..F.LL.L-F|J-L7-777-|LL|FJ-FJ7|F--77FJLJ',\n",
       " '.7-L77.7F|LF-FJ..JL7-|.77FFL--7||L-JL7F|L77F-|F-JF77FJ|FJLF||-L7FJ-F-JL7|||JL-7||L7L--7L7||F7FJ||L-77.|-FJFL7..|||JFJJJF7|.FJ|..FFJJ7F-|J.7.',\n",
       " 'LLL|L7--7-.|J|LFJ-FJ.L-7-F-7F7|||F7F7L7L7L77FJL--J|-L7L7JF77J-FJL-7L--7|||F7F7|||FJ-F7|FJ|LJ|L7||F-J|FL-|7|L77FJJ|FF|7--7-F|-JL-F.|JL7---L-7']"
      ]
     },
     "execution_count": 17,
     "metadata": {},
     "output_type": "execute_result"
    }
   ],
   "source": [
    "with open(\"D10 Input.txt\", \"r\") as file:\n",
    "    file_contents = file.read()\n",
    "# print(file_contents)\n",
    "ls = file_contents.split(\"\\n\")\n",
    "ls[:10]"
   ]
  },
  {
   "cell_type": "code",
   "execution_count": 18,
   "metadata": {},
   "outputs": [
    {
     "data": {
      "text/plain": [
       "'7'"
      ]
     },
     "execution_count": 18,
     "metadata": {},
     "output_type": "execute_result"
    }
   ],
   "source": [
    "ls[1][0]"
   ]
  },
  {
   "cell_type": "markdown",
   "metadata": {},
   "source": [
    "Create the grid based on this."
   ]
  },
  {
   "cell_type": "code",
   "execution_count": 19,
   "metadata": {},
   "outputs": [],
   "source": [
    "location_dict = {}\n",
    "\n",
    "\n",
    "for column in range(len(ls)):\n",
    "    for row in range(len(ls[0])):\n",
    "        # print(row, column)\n",
    "        location_dict[(row, column)] = ls[column][row]"
   ]
  },
  {
   "cell_type": "markdown",
   "metadata": {},
   "source": [
    "Find the location of `S`."
   ]
  },
  {
   "cell_type": "code",
   "execution_count": 20,
   "metadata": {},
   "outputs": [
    {
     "data": {
      "text/plain": [
       "(89, 86)"
      ]
     },
     "execution_count": 20,
     "metadata": {},
     "output_type": "execute_result"
    }
   ],
   "source": [
    "i = 0\n",
    "j = 0\n",
    "\n",
    "for line in ls:\n",
    "    if 'S' in line:\n",
    "        i = line.index('S')\n",
    "        j = ls.index(line)\n",
    "        break\n",
    "\n",
    "s_location = (i, j)\n",
    "s_location"
   ]
  },
  {
   "cell_type": "markdown",
   "metadata": {},
   "source": [
    "Create a function for finding the next location to go.  We might need to create a second version of it to cycle the other way."
   ]
  },
  {
   "cell_type": "code",
   "execution_count": 21,
   "metadata": {},
   "outputs": [],
   "source": [
    "# This function goes clockwise.\n",
    "def find_next_spot(current_spot, previous_spot, step_number = 0, history = [], overall_start = s_location):\n",
    "    if location_dict[current_spot] == 'S':\n",
    "        spot_above = (current_spot[0], current_spot[1] - 1)\n",
    "        spot_right = (current_spot[0] + 1, current_spot[1])\n",
    "        spot_down = (current_spot[0], current_spot[1] + 1)\n",
    "        spot_left = (current_spot[0] - 1, current_spot[1])\n",
    "        if location_dict[spot_above] in ('|', '7', 'F'):\n",
    "            step_number += 1\n",
    "            next_spot = spot_above\n",
    "        elif location_dict[spot_right] in ('-', 'J', '7'):\n",
    "            step_number += 1\n",
    "            next_spot = spot_right\n",
    "        elif location_dict[spot_down] in ('|', 'L', 'J'):\n",
    "            step_number += 1\n",
    "            next_spot = spot_down\n",
    "        elif location_dict[spot_left] in ('-', 'L', 'F'):\n",
    "            step_number += 1\n",
    "            next_spot = spot_left\n",
    "    else:\n",
    "        if location_dict[current_spot] == '|':\n",
    "            step_number += 1\n",
    "            next_spot = (current_spot[0], current_spot[1] - (previous_spot[1]- current_spot[1]))\n",
    "        elif location_dict[current_spot] == 'L':\n",
    "            step_number += 1\n",
    "            next_spot = (current_spot[0] - (previous_spot[1] - current_spot[1]), current_spot[1] - (previous_spot[0] - current_spot[0]))\n",
    "        elif location_dict[current_spot] == 'J':\n",
    "            step_number += 1\n",
    "            next_spot = (current_spot[0] + (previous_spot[1] - current_spot[1]), current_spot[1] + (previous_spot[0] - current_spot[0]))\n",
    "        elif location_dict[current_spot] == 'F':\n",
    "            step_number += 1\n",
    "            next_spot = (current_spot[0] + (previous_spot[1] - current_spot[1]), current_spot[1] + (previous_spot[0] - current_spot[0]))\n",
    "        elif location_dict[current_spot] == '7':\n",
    "            step_number += 1\n",
    "            next_spot = (current_spot[0] - (previous_spot[1] - current_spot[1]), current_spot[1] - (previous_spot[0] - current_spot[0]))\n",
    "        elif location_dict[current_spot] == '-':\n",
    "            step_number += 1\n",
    "            next_spot = (current_spot[0] - (previous_spot[0] - current_spot[0]), current_spot[1])\n",
    "    history.append([next_spot, current_spot, step_number])\n",
    "    if next_spot == overall_start:\n",
    "        return next_spot, current_spot, step_number, history, overall_start\n",
    "    else:\n",
    "        return find_next_spot(next_spot, current_spot, step_number, history, overall_start)"
   ]
  },
  {
   "cell_type": "code",
   "execution_count": 23,
   "metadata": {},
   "outputs": [],
   "source": [
    "import sys"
   ]
  },
  {
   "cell_type": "code",
   "execution_count": 24,
   "metadata": {},
   "outputs": [],
   "source": [
    "sys.setrecursionlimit(20000)"
   ]
  },
  {
   "cell_type": "code",
   "execution_count": 25,
   "metadata": {},
   "outputs": [],
   "source": [
    "loop_route = find_next_spot(s_location, s_location)"
   ]
  },
  {
   "cell_type": "markdown",
   "metadata": {},
   "source": [
    "The furthest point is the total length divided by two - so let's just do that."
   ]
  },
  {
   "cell_type": "code",
   "execution_count": 26,
   "metadata": {},
   "outputs": [
    {
     "data": {
      "text/plain": [
       "7012.0"
      ]
     },
     "execution_count": 26,
     "metadata": {},
     "output_type": "execute_result"
    }
   ],
   "source": [
    "max_distance = loop_route[3][-1][2]/2\n",
    "max_distance"
   ]
  },
  {
   "cell_type": "markdown",
   "metadata": {},
   "source": [
    "Part 2"
   ]
  },
  {
   "cell_type": "markdown",
   "metadata": {},
   "source": [
    "Okay - I have gained inspiration from a comment to essentially scan through the grid one by one.  For each line identify an odd/even counter for each time we encounter a part of the path that has a north facing part. If the identifier is odd and you get to a thing not in the path then count that area.  (This is totally stolen, it makes sense when you think about it, but I don't think I could have come up with it myself!)"
   ]
  },
  {
   "cell_type": "code",
   "execution_count": 27,
   "metadata": {},
   "outputs": [
    {
     "data": {
      "text/plain": [
       "[(89, 86),\n",
       " (90, 86),\n",
       " (91, 86),\n",
       " (92, 86),\n",
       " (93, 86),\n",
       " (93, 87),\n",
       " (93, 88),\n",
       " (92, 88),\n",
       " (92, 89),\n",
       " (93, 89)]"
      ]
     },
     "execution_count": 27,
     "metadata": {},
     "output_type": "execute_result"
    }
   ],
   "source": [
    "parts_of_path_overall = [[x[1], True if x[1][0] == x[0][0] + 1 else False] for x in loop_route[3]]\n",
    "parts_of_path_vertical = [x[0] for x in parts_of_path_overall if x[1] == True]\n",
    "parts_of_path = [x[0] for x in parts_of_path_overall]\n",
    "parts_of_path[:10]"
   ]
  },
  {
   "cell_type": "markdown",
   "metadata": {},
   "source": [
    "I don't think I am far away.  but I jsut can't make it work sadly."
   ]
  },
  {
   "cell_type": "code",
   "execution_count": 28,
   "metadata": {},
   "outputs": [
    {
     "data": {
      "text/plain": [
       "395"
      ]
     },
     "execution_count": 28,
     "metadata": {},
     "output_type": "execute_result"
    }
   ],
   "source": [
    "area_counter = 0\n",
    "north_facing_path = ['L', 'J', '|']\n",
    "\n",
    "line_number = 0\n",
    "for line in ls:\n",
    "    column_odd_even_counter = 0\n",
    "    column = 0\n",
    "    for character in line:\n",
    "        if character in north_facing_path and (column, line_number) in parts_of_path:\n",
    "            column_odd_even_counter += 1\n",
    "        if (column, line_number) not in parts_of_path and column_odd_even_counter % 2 == 1:\n",
    "            area_counter += 1\n",
    "        column += 1\n",
    "    line_number += 1\n",
    "area_counter\n",
    "        "
   ]
  }
 ],
 "metadata": {
  "kernelspec": {
   "display_name": "Python 3.11.0 64-bit",
   "language": "python",
   "name": "python3"
  },
  "language_info": {
   "codemirror_mode": {
    "name": "ipython",
    "version": 3
   },
   "file_extension": ".py",
   "mimetype": "text/x-python",
   "name": "python",
   "nbconvert_exporter": "python",
   "pygments_lexer": "ipython3",
   "version": "3.9.10"
  },
  "orig_nbformat": 4,
  "vscode": {
   "interpreter": {
    "hash": "5c7b89af1651d0b8571dde13640ecdccf7d5a6204171d6ab33e7c296e100e08a"
   }
  }
 },
 "nbformat": 4,
 "nbformat_minor": 2
}
