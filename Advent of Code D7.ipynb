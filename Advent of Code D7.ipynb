{
 "cells": [
  {
   "cell_type": "markdown",
   "metadata": {},
   "source": [
    "## Advent of Code Day 7"
   ]
  },
  {
   "cell_type": "code",
   "execution_count": 1,
   "metadata": {},
   "outputs": [],
   "source": [
    "import pandas as pd\n",
    "import re"
   ]
  },
  {
   "cell_type": "markdown",
   "metadata": {},
   "source": [
    "Import File"
   ]
  },
  {
   "cell_type": "code",
   "execution_count": 66,
   "metadata": {},
   "outputs": [
    {
     "data": {
      "text/plain": [
       "['TT999 460',\n",
       " '96T99 361',\n",
       " 'K264Q 948',\n",
       " 'K8TT3 68',\n",
       " 'T5JT5 730',\n",
       " '88789 928',\n",
       " '262A6 561',\n",
       " 'AA5AA 673',\n",
       " '2AT22 968',\n",
       " '9492K 597']"
      ]
     },
     "execution_count": 66,
     "metadata": {},
     "output_type": "execute_result"
    }
   ],
   "source": [
    "with open(\"D7 Input.txt\", \"r\") as file:\n",
    "    file_contents = file.read()\n",
    "# print(file_contents)\n",
    "ls = file_contents.split(\"\\n\")\n",
    "ls[:10]"
   ]
  },
  {
   "cell_type": "markdown",
   "metadata": {},
   "source": [
    "Parse everything"
   ]
  },
  {
   "cell_type": "code",
   "execution_count": 67,
   "metadata": {},
   "outputs": [
    {
     "data": {
      "text/plain": [
       "[['TT999', '460'],\n",
       " ['96T99', '361'],\n",
       " ['K264Q', '948'],\n",
       " ['K8TT3', '68'],\n",
       " ['T5JT5', '730']]"
      ]
     },
     "execution_count": 67,
     "metadata": {},
     "output_type": "execute_result"
    }
   ],
   "source": [
    "hands = [x.split(' ') for x in ls]\n",
    "hands[:5]"
   ]
  },
  {
   "cell_type": "markdown",
   "metadata": {},
   "source": [
    "Create an ordering dict:"
   ]
  },
  {
   "cell_type": "code",
   "execution_count": 68,
   "metadata": {},
   "outputs": [],
   "source": [
    "ordering_map = {'2': 0, '3': 1, '4': 2, '5': 3, '6': 4, '7': 5, '8': 6, '9': 7, 'T': 8, 'J': 9, 'Q': 10, 'K': 11, 'A': 12}"
   ]
  },
  {
   "cell_type": "markdown",
   "metadata": {},
   "source": [
    "Create a function to work out what thing a hand should be:"
   ]
  },
  {
   "cell_type": "code",
   "execution_count": 69,
   "metadata": {},
   "outputs": [],
   "source": [
    "def score_a_hand(hand):\n",
    "    hand_ls = [*hand]\n",
    "    distinct_ls = list(set(hand_ls))\n",
    "    cards_ls = []\n",
    "    most_cards = 0\n",
    "    hand_score = 0\n",
    "    for card in distinct_ls:\n",
    "        card_appearances = hand_ls.count(card)\n",
    "        cards_ls.append([card, card_appearances])\n",
    "        if card_appearances > most_cards:\n",
    "            most_cards = card_appearances\n",
    "    if most_cards == 5:\n",
    "        hand_score = 7\n",
    "    elif most_cards == 4:\n",
    "        hand_score = 6\n",
    "    elif most_cards == 3:\n",
    "        if len(distinct_ls) == 2:\n",
    "            hand_score = 5\n",
    "        else:\n",
    "            hand_score = 4\n",
    "    elif most_cards == 2:\n",
    "        if len(distinct_ls) == 3:\n",
    "            hand_score = 3\n",
    "        else:\n",
    "            hand_score = 2\n",
    "    elif most_cards == 1:\n",
    "        hand_score = 1\n",
    "    else:\n",
    "        hand_score = 0\n",
    "    return hand_score"
   ]
  },
  {
   "cell_type": "markdown",
   "metadata": {},
   "source": [
    "Create a dataframe with each hand and its bid:"
   ]
  },
  {
   "cell_type": "code",
   "execution_count": 70,
   "metadata": {},
   "outputs": [
    {
     "data": {
      "text/plain": [
       "[['TT999', 5, 8, 8, 7, 7, 7, '460'],\n",
       " ['96T99', 4, 7, 4, 8, 7, 7, '361'],\n",
       " ['K264Q', 1, 11, 0, 4, 2, 10, '948'],\n",
       " ['K8TT3', 2, 11, 6, 8, 8, 1, '68'],\n",
       " ['T5JT5', 3, 8, 3, 9, 8, 3, '730']]"
      ]
     },
     "execution_count": 70,
     "metadata": {},
     "output_type": "execute_result"
    }
   ],
   "source": [
    "rankings = []\n",
    "\n",
    "for hand in hands:\n",
    "    hand_score = score_a_hand(hand[0])\n",
    "    rankings.append([hand[0], hand_score, ordering_map[hand[0][0]], ordering_map[hand[0][1]], ordering_map[hand[0][2]], ordering_map[hand[0][3]], ordering_map[hand[0][4]], hand[1]])\n",
    "\n",
    "rankings[:5]"
   ]
  },
  {
   "cell_type": "code",
   "execution_count": 82,
   "metadata": {},
   "outputs": [
    {
     "name": "stdout",
     "output_type": "stream",
     "text": [
      "246795406\n"
     ]
    }
   ],
   "source": [
    "df = pd.DataFrame(rankings, columns=['hand', 'hand_score', 'card1', 'card2', 'card3', 'card4', 'card5', 'bid'])\n",
    "df = df.sort_values(by=['hand_score', 'card1', 'card2', 'card3', 'card4', 'card5'], ascending=True).reset_index(drop=True).reset_index()\n",
    "df = df.rename(columns={'index': 'rank'})\n",
    "df['rank'] = df['rank'] + 1\n",
    "df['winnings'] = df.apply(lambda x: int(x['rank']) * int(x['bid']), axis=1)\n",
    "total_winnings = df['winnings'].sum()\n",
    "print(total_winnings)"
   ]
  },
  {
   "cell_type": "markdown",
   "metadata": {},
   "source": [
    "Part 2:"
   ]
  },
  {
   "cell_type": "markdown",
   "metadata": {},
   "source": [
    "This part is pretty confusing because Jacks suddenly act like Jokers, so they are allowed to be treated like the highest value thing for that hand.  let's make a function that cycles through all potential options to find the best one and then rescore."
   ]
  },
  {
   "cell_type": "code",
   "execution_count": 72,
   "metadata": {},
   "outputs": [
    {
     "data": {
      "text/plain": [
       "5"
      ]
     },
     "execution_count": 72,
     "metadata": {},
     "output_type": "execute_result"
    }
   ],
   "source": [
    "def score_a_hand_jokers(hand):\n",
    "    rank = 0\n",
    "    for card_type in ordering_map.keys():\n",
    "        new_hand = hand.replace('J', card_type)\n",
    "        if score_a_hand(new_hand) > rank:\n",
    "            rank = score_a_hand(new_hand)\n",
    "    return rank\n",
    "\n",
    "score_a_hand_jokers('T5JT5')"
   ]
  },
  {
   "cell_type": "markdown",
   "metadata": {},
   "source": [
    "Now put this in our dataframe and see if it does any good!"
   ]
  },
  {
   "cell_type": "markdown",
   "metadata": {},
   "source": [
    "Ah I need to rank J lower than the value of a 2."
   ]
  },
  {
   "cell_type": "code",
   "execution_count": 81,
   "metadata": {},
   "outputs": [],
   "source": [
    "ordering_map_v2 = {'2': 0, '3': 1, '4': 2, '5': 3, '6': 4, '7': 5, '8': 6, '9': 7, 'T': 8, 'J': -1, 'Q': 10, 'K': 11, 'A': 12}"
   ]
  },
  {
   "cell_type": "code",
   "execution_count": 83,
   "metadata": {},
   "outputs": [
    {
     "data": {
      "text/html": [
       "<div>\n",
       "<style scoped>\n",
       "    .dataframe tbody tr th:only-of-type {\n",
       "        vertical-align: middle;\n",
       "    }\n",
       "\n",
       "    .dataframe tbody tr th {\n",
       "        vertical-align: top;\n",
       "    }\n",
       "\n",
       "    .dataframe thead th {\n",
       "        text-align: right;\n",
       "    }\n",
       "</style>\n",
       "<table border=\"1\" class=\"dataframe\">\n",
       "  <thead>\n",
       "    <tr style=\"text-align: right;\">\n",
       "      <th></th>\n",
       "      <th>joker_rank</th>\n",
       "      <th>rank</th>\n",
       "      <th>hand</th>\n",
       "      <th>hand_score</th>\n",
       "      <th>card1</th>\n",
       "      <th>card2</th>\n",
       "      <th>card3</th>\n",
       "      <th>card4</th>\n",
       "      <th>card5</th>\n",
       "      <th>bid</th>\n",
       "      <th>winnings</th>\n",
       "      <th>joker_hand_score</th>\n",
       "      <th>joker_card_1</th>\n",
       "      <th>joker_card_2</th>\n",
       "      <th>joker_card_3</th>\n",
       "      <th>joker_card_4</th>\n",
       "      <th>joker_card_5</th>\n",
       "      <th>joker_winnings</th>\n",
       "    </tr>\n",
       "  </thead>\n",
       "  <tbody>\n",
       "    <tr>\n",
       "      <th>995</th>\n",
       "      <td>996</td>\n",
       "      <td>972</td>\n",
       "      <td>TTJTT</td>\n",
       "      <td>6</td>\n",
       "      <td>8</td>\n",
       "      <td>8</td>\n",
       "      <td>9</td>\n",
       "      <td>8</td>\n",
       "      <td>8</td>\n",
       "      <td>950</td>\n",
       "      <td>923400</td>\n",
       "      <td>7</td>\n",
       "      <td>8</td>\n",
       "      <td>8</td>\n",
       "      <td>-1</td>\n",
       "      <td>8</td>\n",
       "      <td>8</td>\n",
       "      <td>946200</td>\n",
       "    </tr>\n",
       "    <tr>\n",
       "      <th>996</th>\n",
       "      <td>997</td>\n",
       "      <td>885</td>\n",
       "      <td>QJJJQ</td>\n",
       "      <td>5</td>\n",
       "      <td>10</td>\n",
       "      <td>9</td>\n",
       "      <td>9</td>\n",
       "      <td>9</td>\n",
       "      <td>10</td>\n",
       "      <td>299</td>\n",
       "      <td>264615</td>\n",
       "      <td>7</td>\n",
       "      <td>10</td>\n",
       "      <td>-1</td>\n",
       "      <td>-1</td>\n",
       "      <td>-1</td>\n",
       "      <td>10</td>\n",
       "      <td>298103</td>\n",
       "    </tr>\n",
       "    <tr>\n",
       "      <th>997</th>\n",
       "      <td>998</td>\n",
       "      <td>979</td>\n",
       "      <td>QJQQQ</td>\n",
       "      <td>6</td>\n",
       "      <td>10</td>\n",
       "      <td>9</td>\n",
       "      <td>10</td>\n",
       "      <td>10</td>\n",
       "      <td>10</td>\n",
       "      <td>677</td>\n",
       "      <td>662783</td>\n",
       "      <td>7</td>\n",
       "      <td>10</td>\n",
       "      <td>-1</td>\n",
       "      <td>10</td>\n",
       "      <td>10</td>\n",
       "      <td>10</td>\n",
       "      <td>675646</td>\n",
       "    </tr>\n",
       "    <tr>\n",
       "      <th>998</th>\n",
       "      <td>999</td>\n",
       "      <td>893</td>\n",
       "      <td>KJKKJ</td>\n",
       "      <td>5</td>\n",
       "      <td>11</td>\n",
       "      <td>9</td>\n",
       "      <td>11</td>\n",
       "      <td>11</td>\n",
       "      <td>9</td>\n",
       "      <td>850</td>\n",
       "      <td>759050</td>\n",
       "      <td>7</td>\n",
       "      <td>11</td>\n",
       "      <td>-1</td>\n",
       "      <td>11</td>\n",
       "      <td>11</td>\n",
       "      <td>-1</td>\n",
       "      <td>849150</td>\n",
       "    </tr>\n",
       "    <tr>\n",
       "      <th>999</th>\n",
       "      <td>1000</td>\n",
       "      <td>997</td>\n",
       "      <td>AAAJA</td>\n",
       "      <td>6</td>\n",
       "      <td>12</td>\n",
       "      <td>12</td>\n",
       "      <td>12</td>\n",
       "      <td>9</td>\n",
       "      <td>12</td>\n",
       "      <td>166</td>\n",
       "      <td>165502</td>\n",
       "      <td>7</td>\n",
       "      <td>12</td>\n",
       "      <td>12</td>\n",
       "      <td>12</td>\n",
       "      <td>-1</td>\n",
       "      <td>12</td>\n",
       "      <td>166000</td>\n",
       "    </tr>\n",
       "  </tbody>\n",
       "</table>\n",
       "</div>"
      ],
      "text/plain": [
       "     joker_rank  rank   hand  hand_score  card1  card2  card3  card4  card5  \\\n",
       "995         996   972  TTJTT           6      8      8      9      8      8   \n",
       "996         997   885  QJJJQ           5     10      9      9      9     10   \n",
       "997         998   979  QJQQQ           6     10      9     10     10     10   \n",
       "998         999   893  KJKKJ           5     11      9     11     11      9   \n",
       "999        1000   997  AAAJA           6     12     12     12      9     12   \n",
       "\n",
       "     bid  winnings  joker_hand_score  joker_card_1  joker_card_2  \\\n",
       "995  950    923400                 7             8             8   \n",
       "996  299    264615                 7            10            -1   \n",
       "997  677    662783                 7            10            -1   \n",
       "998  850    759050                 7            11            -1   \n",
       "999  166    165502                 7            12            12   \n",
       "\n",
       "     joker_card_3  joker_card_4  joker_card_5  joker_winnings  \n",
       "995            -1             8             8          946200  \n",
       "996            -1            -1            10          298103  \n",
       "997            10            10            10          675646  \n",
       "998            11            11            -1          849150  \n",
       "999            12            -1            12          166000  "
      ]
     },
     "execution_count": 83,
     "metadata": {},
     "output_type": "execute_result"
    }
   ],
   "source": [
    "df['joker_hand_score'] = df.apply(lambda x: score_a_hand_jokers(x['hand']), axis=1)\n",
    "df['joker_card_1'] = df.apply(lambda x: ordering_map_v2[x['hand'][0]], axis=1)\n",
    "df['joker_card_2'] = df.apply(lambda x: ordering_map_v2[x['hand'][1]], axis=1)\n",
    "df['joker_card_3'] = df.apply(lambda x: ordering_map_v2[x['hand'][2]], axis=1)\n",
    "df['joker_card_4'] = df.apply(lambda x: ordering_map_v2[x['hand'][3]], axis=1)\n",
    "df['joker_card_5'] = df.apply(lambda x: ordering_map_v2[x['hand'][4]], axis=1)\n",
    "\n",
    "df = df.sort_values(by=['joker_hand_score', 'joker_card_1', 'joker_card_2', 'joker_card_3', 'joker_card_4', 'joker_card_5'], ascending=True).reset_index(drop=True).reset_index()\n",
    "df = df.rename(columns={'index': 'joker_rank'})\n",
    "df['joker_rank'] = df['joker_rank'] + 1\n",
    "df['joker_winnings'] = df.apply(lambda x: int(x['joker_rank']) * int(x['bid']), axis=1)\n",
    "df.tail()"
   ]
  },
  {
   "cell_type": "code",
   "execution_count": 84,
   "metadata": {},
   "outputs": [
    {
     "name": "stdout",
     "output_type": "stream",
     "text": [
      "249356515\n"
     ]
    }
   ],
   "source": [
    "total_winnings = df['joker_winnings'].sum()\n",
    "print(total_winnings)"
   ]
  }
 ],
 "metadata": {
  "kernelspec": {
   "display_name": "Python 3.11.0 64-bit",
   "language": "python",
   "name": "python3"
  },
  "language_info": {
   "codemirror_mode": {
    "name": "ipython",
    "version": 3
   },
   "file_extension": ".py",
   "mimetype": "text/x-python",
   "name": "python",
   "nbconvert_exporter": "python",
   "pygments_lexer": "ipython3",
   "version": "3.9.10"
  },
  "orig_nbformat": 4,
  "vscode": {
   "interpreter": {
    "hash": "5c7b89af1651d0b8571dde13640ecdccf7d5a6204171d6ab33e7c296e100e08a"
   }
  }
 },
 "nbformat": 4,
 "nbformat_minor": 2
}
