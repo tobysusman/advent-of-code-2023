{
 "cells": [
  {
   "cell_type": "markdown",
   "metadata": {},
   "source": [
    "## Advent of Code Day 4"
   ]
  },
  {
   "cell_type": "code",
   "execution_count": 1,
   "metadata": {},
   "outputs": [],
   "source": [
    "import pandas as pd\n",
    "import re"
   ]
  },
  {
   "cell_type": "markdown",
   "metadata": {},
   "source": [
    "Import File"
   ]
  },
  {
   "cell_type": "code",
   "execution_count": 2,
   "metadata": {},
   "outputs": [
    {
     "data": {
      "text/plain": [
       "['seeds: 222541566 218404460 670428364 432472902 2728902838 12147727 3962570697 52031641 2849288350 113747257 3648852659 73423293 4036058422 190602154 1931540843 584314999 3344622241 180428346 1301166628 310966761',\n",
       " 'seed-to-soil map:\\n357888202 777841571 45089383\\n1091769591 2222785614 212172358\\n747211456 668867483 108974088\\n635547523 229171508 111663933\\n1573402842 2067459960 102412403\\n4289698662 1148443045 5268634\\n2395735068 1322252554 161006801\\n0 205577967 4476015\\n57955189 635249899 15743396\\n402977585 0 26133741\\n464695488 412326242 24494890\\n2966156314 1301354919 3630744\\n42819069 472405294 15136120\\n3261136238 2193516168 29269446\\n2394617262 1304985663 1117806\\n3573311427 1725292988 265415981\\n3184385247 1990708969 76750991\\n36407558 487541414 6411511\\n178443976 26133741 179444226\\n4233901482 2444128986 55797180\\n2556741869 2169872363 23643805\\n429111326 436821132 35584162\\n4476015 622435882 12814017\\n2830010004 4158820986 136146310\\n1315195976 890236179 258206866\\n17290032 210053982 19117526\\n2969787058 3404926809 66954949\\n106953175 340835441 71490801\\n3307388168 3846327739 265923259\\n2580385674 3488864242 249624330\\n3036742007 1153711679 147643240\\n3290405684 3471881758 16982484\\n4187331494 4112250998 46569988\\n2378468177 1306103469 16149085\\n1308440551 2936378300 6755425\\n73698585 822930954 33254590\\n489190378 493952925 128482957\\n1675815245 1483259355 242033633\\n3849072207 2598119013 338259287\\n1917848878 2944307510 460619299\\n1303941949 885737577 4498602\\n3847898422 2943133725 1173785\\n617673335 650993295 17874188\\n993576744 2499926166 98192847\\n3838727408 2434957972 9171014\\n885737577 3738488572 107839167',\n",
       " 'soil-to-fertilizer map:\\n146677673 622659563 93167301\\n1157991666 1089969349 162939558\\n3393833863 2765693883 993201\\n1089969349 2528480087 47120899\\n1536155605 1455175707 97002831\\n77735382 829301434 68942291\\n519819619 496909514 125750049\\n1633158436 2638516375 127177508\\n2914682387 1777568650 8769904\\n1907493268 2936307342 209538906\\n1523198024 2370144872 12957581\\n398047045 375136940 121772574\\n3155987938 1552178538 225390112\\n2722437809 1786338554 7281125\\n2405956502 1793619679 316481307\\n4079025823 3374787635 121920527\\n1020706608 898243725 11125486\\n1320931224 1252908907 202266800\\n4200946350 4161901201 91091718\\n2872708010 4252992919 23854892\\n2896562902 4276847811 18119485\\n2923452291 2766687084 169620258\\n1760335944 2261396563 6024603\\n362307857 715826864 35739188\\n4292038068 2525550859 2929228\\n2345973561 2310161931 59982941\\n3426288597 3496708162 124839972\\n2768316300 2383102453 51488089\\n2729718934 2455491960 38597366\\n1137090248 2434590542 20901418\\n2819804389 2110100986 52903621\\n3394827064 2494089326 31461533\\n1809101312 2163004607 98391956\\n3551128569 3621548134 527897254\\n1766360547 2267421166 42740765\\n2117032174 3145846248 228941387\\n645569668 0 375136940\\n0 751566052 77735382\\n239844974 925431556 122462883\\n3093072549 2575600986 62915389\\n1031832094 909369211 16062345\\n3381378050 4149445388 12455813',\n",
       " 'fertilizer-to-water map:\\n1853863567 1354319094 57762399\\n1963297596 2892133710 74523026\\n351355449 2825239457 1556531\\n4263216859 3376413885 31750437\\n2555584073 3055976839 118124436\\n2730998967 1343408443 10910651\\n1638376751 979599391 153825342\\n978844708 811605824 82508702\\n1911625966 894114526 6715081\\n3367668240 3408164322 203176531\\n2729654714 3174101275 1344253\\n3200258520 795809557 15796267\\n1595497633 1782591008 42879118\\n2683440491 1412081493 46214223\\n1958950306 101242881 4347290\\n2831229721 242278649 124658639\\n1792202093 734148083 61661474\\n2741909618 2966656736 89320103\\n1918341047 3175445528 40609259\\n2955888360 1825470126 7069388\\n3594735667 3635231749 181844678\\n2673708509 412658344 9731982\\n2962957748 1832539514 237300772\\n530398473 105590171 136688478\\n1177133692 366937288 45721056\\n27883870 2489305043 153451249\\n352911980 2711533741 113705716\\n3570844771 3611340853 23890896\\n466617696 900829607 30422191\\n0 2461421173 27883870\\n3776580345 3360472089 15941796\\n4207783288 3817076427 55433571\\n2429401509 1249205015 60844842\\n181335119 2642756292 68777449\\n1061353410 1133424733 115780282\\n667086951 422390326 311757757\\n2490246351 2826795988 65337722\\n1222854748 931251798 48347593\\n1271202341 1458295716 324295292\\n3360472089 4287771145 7196151\\n497039887 1310049857 33358586\\n2037820622 2069840286 391580887\\n250112568 0 101242881\\n3792522141 3872509998 415261147',\n",
       " 'water-to-light map:\\n3392354816 2147745556 27501466\\n1878871951 1725889381 75406426\\n173441126 161378219 150090654\\n1018905669 635099142 165518615\\n4087062942 1662057640 30823678\\n353004829 1119237890 172394750\\n1845863888 1692881318 33008063\\n153206340 867143452 20234786\\n2604702405 4037570714 169107986\\n1617110925 3533554525 169325605\\n2559755690 1617110925 44946715\\n600097153 912061633 124651296\\n3946007322 3319554557 141055620\\n2465332301 3460610177 72944348\\n724748449 340941922 294157220\\n3044149982 2175247022 348204834\\n2773810391 2633005641 270339591\\n525399579 153206340 8171879\\n2139921020 3702880130 325411281\\n3419856282 1978376483 109941715\\n1954278377 2523451856 88074744\\n2538276649 2611526600 21479041\\n4117886620 1801295807 177080676\\n2051632424 4206678700 88288596\\n2042353121 4028291411 9279303\\n3529797997 2903345232 416209325\\n1786436530 2088318198 59427358\\n533571458 800617757 66525695\\n1184424284 1036712929 82524961\\n1266949245 887378238 24683395\\n323531780 311468873 29473049',\n",
       " 'light-to-temperature map:\\n2119656026 2694441768 51718564\\n582739623 515860164 331142829\\n3188466529 3433161801 686443431\\n1208858214 1852905471 223488011\\n2984018793 2746160332 20792175\\n114072893 923500840 335770555\\n1078092281 1568663312 55313164\\n1528379045 847002993 76497847\\n3159539374 3404234646 28927155\\n1604876892 44343574 471516590\\n3874909960 2119656026 229635679\\n913882452 1404453483 164209829\\n449843448 1720009296 132896175\\n3004810968 2539713362 154728406\\n1432346225 1623976476 96032820\\n2171374590 4119605232 175362064\\n2827425140 3247640993 156593653\\n1177749019 1259271395 31109195\\n2346736654 2766952507 480688486\\n1133405445 0 44343574\\n0 1290380590 114072893\\n4104545639 2349291705 190421657',\n",
       " 'temperature-to-humidity map:\\n4032879828 4294798436 168860\\n4033048688 927598400 261918608\\n0 101834652 315424112\\n3415479218 1417189709 517560635\\n3933039853 4175022329 99839975\\n2470365900 2513768139 498846371\\n2059440409 4274862304 19936132\\n2969212271 2295173893 218594246\\n315424112 417258764 36139086\\n351563198 0 101834652\\n927598400 1934750344 360423549\\n3187806517 1189517008 66595582\\n3254402099 1256112590 161077119\\n2079376541 3784032970 390989359\\n1288021949 3012614510 771418460',\n",
       " 'humidity-to-location map:\\n1627636687 2047220773 460084702\\n2744823277 560934787 184170906\\n3485120052 3437939311 342343442\\n3959782982 3213426504 221968093\\n1599327759 745105693 28308928\\n2311378749 773414621 172869650\\n4292422582 3435394597 2544714\\n4181751075 3780282753 110671507\\n2484248399 1371539463 260574878\\n944796451 1771589193 23241552\\n2985880462 4036578393 258388903\\n896379083 2507305475 48417368\\n2298631675 0 12747074\\n237282755 12747074 435619394\\n812377001 1310308951 61230512\\n1486759440 448366468 112568319\\n3827463494 2985880462 132319488\\n3389893498 3118199950 95226554\\n0 1073026196 237282755\\n672902149 1632114341 139474852\\n3244269365 3890954260 145624133\\n1103441152 2555722843 279347933\\n2181644796 1794830745 116986879\\n873607513 1050254626 22771570\\n968038003 1911817624 135403149\\n2087721389 2835070776 93923407\\n1382789085 946284271 103970355']"
      ]
     },
     "execution_count": 2,
     "metadata": {},
     "output_type": "execute_result"
    }
   ],
   "source": [
    "with open(\"D5 Input.txt\", \"r\") as file:\n",
    "    file_contents = file.read()\n",
    "# print(file_contents)\n",
    "ls = file_contents.split(\"\\n\\n\")\n",
    "# ls[:5]\n",
    "ls"
   ]
  },
  {
   "cell_type": "markdown",
   "metadata": {},
   "source": [
    "Parse everything"
   ]
  },
  {
   "cell_type": "code",
   "execution_count": 4,
   "metadata": {},
   "outputs": [
    {
     "data": {
      "text/plain": [
       "['222541566',\n",
       " '218404460',\n",
       " '670428364',\n",
       " '432472902',\n",
       " '2728902838',\n",
       " '12147727',\n",
       " '3962570697',\n",
       " '52031641',\n",
       " '2849288350',\n",
       " '113747257',\n",
       " '3648852659',\n",
       " '73423293',\n",
       " '4036058422',\n",
       " '190602154',\n",
       " '1931540843',\n",
       " '584314999',\n",
       " '3344622241',\n",
       " '180428346',\n",
       " '1301166628',\n",
       " '310966761']"
      ]
     },
     "execution_count": 4,
     "metadata": {},
     "output_type": "execute_result"
    }
   ],
   "source": [
    "seeds = ls[0].split(': ')[1].split(' ')\n",
    "seeds_soil_map = [x.split(' ') for x in ls[1].split(':\\n')[1].split('\\n')]\n",
    "soil_fertilizer_map = [x.split(' ') for x in ls[2].split(':\\n')[1].split('\\n')]\n",
    "fertilizer_water_map = [x.split(' ') for x in ls[3].split(':\\n')[1].split('\\n')]\n",
    "water_light_map = [x.split(' ') for x in ls[4].split(':\\n')[1].split('\\n')]\n",
    "light_temperature_map = [x.split(' ') for x in ls[5].split(':\\n')[1].split('\\n')]\n",
    "temperature_humidity_map = [x.split(' ') for x in ls[6].split(':\\n')[1].split('\\n')]\n",
    "humidity_location_map = [x.split(' ') for x in ls[7].split(':\\n')[1].split('\\n')]\n",
    "seeds"
   ]
  },
  {
   "cell_type": "markdown",
   "metadata": {},
   "source": [
    "Create a function to perform the mappings."
   ]
  },
  {
   "cell_type": "code",
   "execution_count": 12,
   "metadata": {},
   "outputs": [],
   "source": [
    "def find_mapping(seed, map):\n",
    "    next_thing = seed\n",
    "    for mapping in map:\n",
    "        if int(seed) >= int(mapping[1]) and int(seed) < int(mapping[1]) + int(mapping[2]):\n",
    "            next_thing = int(mapping[0]) + int(seed) - int(mapping[1])\n",
    "            break\n",
    "    return next_thing\n"
   ]
  },
  {
   "cell_type": "code",
   "execution_count": 20,
   "metadata": {},
   "outputs": [
    {
     "data": {
      "text/plain": [
       "379811651"
      ]
     },
     "execution_count": 20,
     "metadata": {},
     "output_type": "execute_result"
    }
   ],
   "source": [
    "lowest_location = float('inf')\n",
    "for seed in seeds:\n",
    "    seed_to_soil = find_mapping(seed, seeds_soil_map)\n",
    "    soil_to_fertilizer = find_mapping(seed_to_soil, soil_fertilizer_map)\n",
    "    fertilizer_to_water = find_mapping(soil_to_fertilizer, fertilizer_water_map)\n",
    "    water_to_light = find_mapping(fertilizer_to_water, water_light_map)\n",
    "    light_to_temperature = find_mapping(water_to_light, light_temperature_map)\n",
    "    temperature_to_humidity = find_mapping(light_to_temperature, temperature_humidity_map)\n",
    "    humidity_to_location = find_mapping(temperature_to_humidity, humidity_location_map)\n",
    "    if humidity_to_location < lowest_location:\n",
    "        lowest_location = humidity_to_location\n",
    "lowest_location"
   ]
  },
  {
   "cell_type": "markdown",
   "metadata": {},
   "source": [
    "Part 2"
   ]
  },
  {
   "cell_type": "code",
   "execution_count": 22,
   "metadata": {},
   "outputs": [
    {
     "data": {
      "text/plain": [
       "[['222541566', '218404460'],\n",
       " ['670428364', '432472902'],\n",
       " ['2728902838', '12147727'],\n",
       " ['3962570697', '52031641'],\n",
       " ['2849288350', '113747257'],\n",
       " ['3648852659', '73423293'],\n",
       " ['4036058422', '190602154'],\n",
       " ['1931540843', '584314999'],\n",
       " ['3344622241', '180428346'],\n",
       " ['1301166628', '310966761']]"
      ]
     },
     "execution_count": 22,
     "metadata": {},
     "output_type": "execute_result"
    }
   ],
   "source": [
    "seeds_part_two = []\n",
    "start_seeds = []\n",
    "range_seeds = []\n",
    "for i in range((len(seeds))):\n",
    "    if i % 2 == 0:\n",
    "        start_seeds.append(seeds[i])\n",
    "    elif i % 2 == 1:\n",
    "        range_seeds.append(seeds[i])\n",
    "for i in range(len(start_seeds)):\n",
    "    seeds_part_two.append([start_seeds[i], range_seeds[i]])\n",
    "seeds_part_two"
   ]
  },
  {
   "cell_type": "code",
   "execution_count": 44,
   "metadata": {},
   "outputs": [],
   "source": [
    "def lowest_location(seeds):\n",
    "    lowest_location = float('inf')\n",
    "    for seed in seeds:\n",
    "        seed_to_soil = find_mapping(seed, seeds_soil_map)\n",
    "        soil_to_fertilizer = find_mapping(seed_to_soil, soil_fertilizer_map)\n",
    "        fertilizer_to_water = find_mapping(soil_to_fertilizer, fertilizer_water_map)\n",
    "        water_to_light = find_mapping(fertilizer_to_water, water_light_map)\n",
    "        light_to_temperature = find_mapping(water_to_light, light_temperature_map)\n",
    "        temperature_to_humidity = find_mapping(light_to_temperature, temperature_humidity_map)\n",
    "        humidity_to_location = find_mapping(temperature_to_humidity, humidity_location_map)\n",
    "        if humidity_to_location < lowest_location:\n",
    "            lowest_location = humidity_to_location\n",
    "    return lowest_location"
   ]
  },
  {
   "cell_type": "code",
   "execution_count": 50,
   "metadata": {},
   "outputs": [
    {
     "name": "stdout",
     "output_type": "stream",
     "text": [
      "['222541566', '218404460'] starting\n",
      "['222541566', '218404460'] finished 98765009 98765009\n",
      "['670428364', '432472902'] starting\n",
      "['670428364', '432472902'] finished 91201704 91201704\n",
      "['2728902838', '12147727'] starting\n",
      "['2728902838', '12147727'] finished 1897502919 91201704\n",
      "['3962570697', '52031641'] starting\n",
      "['3962570697', '52031641'] finished 857586243 91201704\n",
      "['2849288350', '113747257'] starting\n",
      "['2849288350', '113747257'] finished 32962764 32962764\n",
      "['3648852659', '73423293'] starting\n",
      "['3648852659', '73423293'] finished 1756604188 32962764\n",
      "['4036058422', '190602154'] starting\n",
      "['4036058422', '190602154'] finished 58564019 32962764\n",
      "['1931540843', '584314999'] starting\n",
      "['1931540843', '584314999'] finished 142053641 32962764\n",
      "['3344622241', '180428346'] starting\n",
      "['3344622241', '180428346'] finished 215001368 32962764\n",
      "['1301166628', '310966761'] starting\n",
      "['1301166628', '310966761'] finished 28000476 28000476\n"
     ]
    }
   ],
   "source": [
    "# Trying something different, what if we take intervals of 100000 to find the \"area\" with the lowest location?\n",
    "\n",
    "lowest_location_overall = float('inf')\n",
    "lowest_seeds = []\n",
    "\n",
    "for seed_range in seeds_part_two:\n",
    "    print(seed_range, 'starting')\n",
    "    seeds = range(int(seed_range[0]), int(seed_range[0]) + int(seed_range[1]), 10000)\n",
    "    lowest_location_tmp = lowest_location(seeds)\n",
    "    if lowest_location_tmp < lowest_location_overall:\n",
    "        lowest_location_overall = lowest_location_tmp\n",
    "        lowest_seeds =  seed_range\n",
    "    print(seed_range, 'finished', lowest_location_tmp, lowest_location_overall)\n",
    "# This gets me 28000476, which is too high, but I can probably focus in on this section a bit more."
   ]
  },
  {
   "cell_type": "code",
   "execution_count": 56,
   "metadata": {},
   "outputs": [],
   "source": [
    "def lowest_location_with_seed(seeds):\n",
    "    seed_optimum = []\n",
    "    lowest_location = float('inf')\n",
    "    for seed in seeds:\n",
    "        seed_to_soil = find_mapping(seed, seeds_soil_map)\n",
    "        soil_to_fertilizer = find_mapping(seed_to_soil, soil_fertilizer_map)\n",
    "        fertilizer_to_water = find_mapping(soil_to_fertilizer, fertilizer_water_map)\n",
    "        water_to_light = find_mapping(fertilizer_to_water, water_light_map)\n",
    "        light_to_temperature = find_mapping(water_to_light, light_temperature_map)\n",
    "        temperature_to_humidity = find_mapping(light_to_temperature, temperature_humidity_map)\n",
    "        humidity_to_location = find_mapping(temperature_to_humidity, humidity_location_map)\n",
    "        if humidity_to_location < lowest_location:\n",
    "            lowest_location = humidity_to_location\n",
    "            seed_optimum = seed\n",
    "    return [lowest_location, seed_optimum]"
   ]
  },
  {
   "cell_type": "code",
   "execution_count": 63,
   "metadata": {},
   "outputs": [
    {
     "name": "stdout",
     "output_type": "stream",
     "text": [
      "['1301166628', '310966761'] starting\n",
      "['1301166628', '310966761'] finished 1580048628 27992476\n"
     ]
    }
   ],
   "source": [
    "seeds_part_three = [seed_range]\n",
    "lowest_details = []\n",
    "lowest_location_overall = float('inf')\n",
    "for seed_range in seeds_part_three:\n",
    "    print(seed_range, 'starting')\n",
    "    seeds = range(int(seed_range[0]), int(seed_range[0]) + int(seed_range[1]), 1000)\n",
    "    lowest_location_ls = lowest_location_with_seed(seeds)\n",
    "    lowest_location_tmp = lowest_location_ls[0]\n",
    "    lowest_details_tmp = []\n",
    "    if lowest_location_tmp < lowest_location_overall:\n",
    "        lowest_location_overall = lowest_location_tmp\n",
    "        lowest_details = lowest_location_ls[1]\n",
    "    print(seed_range, 'finished', lowest_details, lowest_location_overall)"
   ]
  },
  {
   "cell_type": "code",
   "execution_count": 67,
   "metadata": {},
   "outputs": [
    {
     "data": {
      "text/plain": [
       "[27992443, 1580048595]"
      ]
     },
     "execution_count": 67,
     "metadata": {},
     "output_type": "execute_result"
    }
   ],
   "source": [
    "# seeds = range(1301166628, 1301166628 + 310966761, 1000)\n",
    "# lowest_location_ls = lowest_location_with_seed(seeds)\n",
    "# lowest_location_ls[1]\n",
    "\n",
    "seeds = range(lowest_details - 1000, lowest_details + 2000)\n",
    "\n",
    "lowest_location_ls = lowest_location_with_seed(seeds)\n",
    "lowest_location_ls\n"
   ]
  },
  {
   "cell_type": "markdown",
   "metadata": {},
   "source": [
    "Okay - I have to be honest I got lazy and just wanted to get the answer at the end here.  I had spent probably too long on this so wanted to just get the right answer.\n",
    "\n",
    "To explain what happened above:\n",
    "I was trying to go by brute force, but this was not proving fruitful, it was very challenging to find a way to get any form of code that would run.  I was inspired by a comment I was on the subreddit about _interpolating_ and sampling to hone in on the right answer.  In order to do this, I started with steps of 10,000 - this meant that my code ran in 7 seconds.\n",
    "\n",
    "Then I split the seed pair that appeared to have the lowest amount into steps of 1,000.  Then I took the step of 1,000 that was smallest and looked at everything.\n",
    "\n",
    "To make this better I would have done a few more things:\n",
    "1. I should have made the split intervals a function, this would at least have allowed my code to be more useful in the future.\n",
    "2. I should never have tried brute forcing the answer."
   ]
  }
 ],
 "metadata": {
  "kernelspec": {
   "display_name": "Python 3.11.0 64-bit",
   "language": "python",
   "name": "python3"
  },
  "language_info": {
   "codemirror_mode": {
    "name": "ipython",
    "version": 3
   },
   "file_extension": ".py",
   "mimetype": "text/x-python",
   "name": "python",
   "nbconvert_exporter": "python",
   "pygments_lexer": "ipython3",
   "version": "3.9.10"
  },
  "orig_nbformat": 4,
  "vscode": {
   "interpreter": {
    "hash": "5c7b89af1651d0b8571dde13640ecdccf7d5a6204171d6ab33e7c296e100e08a"
   }
  }
 },
 "nbformat": 4,
 "nbformat_minor": 2
}
